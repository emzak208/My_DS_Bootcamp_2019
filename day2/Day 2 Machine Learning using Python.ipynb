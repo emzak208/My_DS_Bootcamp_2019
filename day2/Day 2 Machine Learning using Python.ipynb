{
 "cells": [
  {
   "cell_type": "markdown",
   "metadata": {},
   "source": [
    "<font size='3'> \n",
    "**Warming up**:   \n",
    "1. Create a statistical summary table for the dataframe 'professor'\n",
    "2. Select the 'Department' value for professor 'Jack' using iloc.\n",
    "3. Create a bar plot with x-axis the 'Name' and y-axis the 'Salary' using plt.bar()\n",
    "</font>"
   ]
  },
  {
   "cell_type": "code",
   "execution_count": 1,
   "metadata": {
    "scrolled": true
   },
   "outputs": [
    {
     "data": {
      "text/html": [
       "<div>\n",
       "<style scoped>\n",
       "    .dataframe tbody tr th:only-of-type {\n",
       "        vertical-align: middle;\n",
       "    }\n",
       "\n",
       "    .dataframe tbody tr th {\n",
       "        vertical-align: top;\n",
       "    }\n",
       "\n",
       "    .dataframe thead th {\n",
       "        text-align: right;\n",
       "    }\n",
       "</style>\n",
       "<table border=\"1\" class=\"dataframe\">\n",
       "  <thead>\n",
       "    <tr style=\"text-align: right;\">\n",
       "      <th></th>\n",
       "      <th>Name</th>\n",
       "      <th>Department</th>\n",
       "      <th>Experience_in_yrs</th>\n",
       "      <th>Salary</th>\n",
       "    </tr>\n",
       "  </thead>\n",
       "  <tbody>\n",
       "    <tr>\n",
       "      <th>0</th>\n",
       "      <td>Chris</td>\n",
       "      <td>Bio</td>\n",
       "      <td>8</td>\n",
       "      <td>100000</td>\n",
       "    </tr>\n",
       "    <tr>\n",
       "      <th>1</th>\n",
       "      <td>Jack</td>\n",
       "      <td>Math</td>\n",
       "      <td>2</td>\n",
       "      <td>80000</td>\n",
       "    </tr>\n",
       "    <tr>\n",
       "      <th>2</th>\n",
       "      <td>Julia</td>\n",
       "      <td>Stats</td>\n",
       "      <td>6</td>\n",
       "      <td>90000</td>\n",
       "    </tr>\n",
       "  </tbody>\n",
       "</table>\n",
       "</div>"
      ],
      "text/plain": [
       "    Name Department  Experience_in_yrs  Salary\n",
       "0  Chris        Bio                  8  100000\n",
       "1   Jack       Math                  2   80000\n",
       "2  Julia      Stats                  6   90000"
      ]
     },
     "execution_count": 1,
     "metadata": {},
     "output_type": "execute_result"
    }
   ],
   "source": [
    "import pandas as pd\n",
    "professor = pd.DataFrame([['Chris','Bio',8,100000],['Jack','Math',2,80000],['Julia','Stats',6,90000]], \n",
    "                         columns = ['Name','Department','Experience_in_yrs','Salary'])\n",
    "professor"
   ]
  },
  {
   "cell_type": "markdown",
   "metadata": {},
   "source": [
    "***\n",
    "<font size='3'> \n",
    "**At the end of today, you'll be able to**:\n",
    "1. Learn the basic Machine Learning concepts \n",
    "2. Learn the most commonly used ML models and their implementation in Python\n",
    "</font>"
   ]
  },
  {
   "cell_type": "markdown",
   "metadata": {},
   "source": [
    "***\n",
    "# Table of Contents \n",
    "* 1. [Basic Machine Learning Concepts](#ml) (1 hr)\n",
    "    - 1.1 [ML vs classic statistics](#diff)\n",
    "    - 1.2 [Train/Validation/Test data](#split)\n",
    "    - 1.3 [Cross-validation](#CV)\n",
    "    - 1.4 [GridSearch](#gridsearch)\n",
    "* 2. [Machine Learning in Python](#models) (4 hrs)\n",
    "    - 2.1 [Linear models](#linear)(1 hr)\n",
    "        - 2.1.1 [Linear regression](#linear)(30 mins)\n",
    "        - 2.1.2 [Logistic regression](#logistic) (30 mins)\n",
    "    - 2.2 [Tree based models](#trees)(2 hrs)\n",
    "        - 2.2.1 [Decision trees](#decision)\n",
    "        - 2.2.2 [Random forest](#rf)\n",
    "        - 2.2.3 [Gradient boosted trees](#xgb)\n",
    "    - 2.3 [Neural network and CNN](#CNN) (30 mins - 1 hr)\n",
    "* 3. [Practice](#practice)\n",
    "***"
   ]
  },
  {
   "cell_type": "markdown",
   "metadata": {},
   "source": [
    "<a id='ml'></a>\n",
    "## 1. Basic Machine Learning Concepts\n",
    "<font size='3'> \n",
    "* What is the fancy term \"machine learning\"? Data -> Algorithm -> Model\n",
    "* **Supervised learning** (given X and Y): 'labeled data'\n",
    "    - Regression \n",
    "    - Classification\n",
    "* **Unsupervised learning** (given X, no Y): 'Unlabeled data'\n",
    "    - Clustering\n",
    "    - Dimension Reduction\n",
    "* **Reinforcement learning** is a technique to allow an agent to take actions and interact with an environment so as to maximize the total rewards without providing examples of correct input-output pairs, eg: AlphaGo, robotics.\n",
    "</font>\n",
    "<img src='day2 data and image/fig2.png' width='400'>\n",
    "\n",
    "[Reference book: Machine Learning with R](https://books.google.com/books/about/Machine_Learning_with_R.html?id=ZaJNCgAAQBAJ&printsec=frontcover&source=kp_read_button#v=onepage&q&f=false)\n",
    "***"
   ]
  },
  {
   "cell_type": "markdown",
   "metadata": {},
   "source": [
    "<a id='diff'></a>\n",
    "### 1.1 ML vs classic statistics\n",
    "<font size='3'>    \n",
    "* **Statistics** cares deeply about how the data was collected, rigorous methodology, and the resulting statistical properties of the estimator or experiment(p-value). It is comfortable with making assumptions.\n",
    "    - Better with small data\n",
    "    - When interpretability is required\n",
    "* **Machine learning** cares deeply about predictions, performance and decision-making, while treating the algorithm as a black box.\n",
    "    - Better with large data\n",
    "</font>\n",
    "\n",
    "[Useful blog](https://www.analyticsvidhya.com/blog/2015/07/difference-machine-learning-statistical-modeling/)<br>\n",
    "[Answer on Quora](https://www.quora.com/What-is-the-difference-between-statistics-and-machine-learning)\n",
    "***\n"
   ]
  },
  {
   "cell_type": "markdown",
   "metadata": {},
   "source": [
    "<a id='split'></a>\n",
    "### 1.2 Train/Validation/Test data \n",
    "<font size='3'>  \n",
    "* **Training dataset** is a dataset of examples used for learning,that is to fit the parameters (e.g., weights)\n",
    "* **Validation dataset** is a dataset of examples used to tune the hyperparameters of the model \n",
    "    - In machine learning, a **hyperparameter** is a parameter whose value is set before the learning process begins. By contrast, the values of other parameters are derived via training.(e.g.,max_depth in random forest)\n",
    "    - As needed, and size varies based on number of parameters to be tuned\n",
    "* **Test dataset** (holdout dataset) is the sample of data used to provide an unbiased evaluation of a final model fit on the training dataset\n",
    "    - **NOTE**: It's only used once a model is completely trained(using the train and validation sets),must not be used in any way to make choices about the model, including feature selection.\n",
    "</font>\n",
    "<img src='day2 data and image/fig1.png' width='500'>\n",
    "\n",
    "[Train/validation/test set in machine learning](https://towardsdatascience.com/train-validation-and-test-sets-72cb40cba9e7)\n",
    "***"
   ]
  },
  {
   "cell_type": "markdown",
   "metadata": {},
   "source": [
    "<a id='CV'></a>\n",
    "### 1.3 Corss-validation   \n",
    "<font size='3'>     \n",
    "* **Cross-validation** is a model validation techniques for assessing how the results of a statistical analysis (model) will generalize to an independent data set. \n",
    "    - Purpose: to define a data set in the training phase to avoid overfitting and underfitting.\n",
    "* **Overfitting**: \n",
    "    - a) Capturing noise \n",
    "    - b) Capturing patterns which do not generalize well to unseen data. The model performs extremely well to the training set but poorly on the test set.\n",
    "* **Underfitting**: not capturing enough patterns in the data. The model performs poorly in both the training and the test set\n",
    "* **Types of cross-validation** (based of number of groups): \n",
    "    - a) **Train/Test or holdout (2 groups)**: only if we have enough data. **In python**: sklearn.model_selection.train_test_split\n",
    "    - b) **K-fold (k groups)**: Repeated holdout method and average scores after k different holdouts.A general rule is k=5 or k=10.**In python**: sklearn.model_selection.KFold\n",
    "    - c) **Leave one out (len(train) groups)**: k equals the number of sample in the dataset.Useful if we have too little data and a fast model to train.**In python**: sklearn.model_selection.LeaveOneOut\n",
    "    - d) **Stratification**: folds are made by preserving the percentage of samples for each class.Useful for small and imbalanced data set.**In python**: sklearn.model_selection.StratifiedKFold</font>\n",
    "* ****\n",
    "<img src='day2 data and image/fig3.png' width='600'>\n",
    "<img src='day2 data and image/skfold.png' width='500'>\n",
    "\n",
    "[Cross-validation](https://towardsdatascience.com/cross-validation-70289113a072)"
   ]
  },
  {
   "cell_type": "markdown",
   "metadata": {},
   "source": [
    "***\n",
    "<a id='gridsearch'></a>\n",
    "### 1.4 GirdSearch\n",
    "<font size='3'>      \n",
    "* Is a means of automatically iterating over multiple hyperparamaters using cross-validation with few lines of codes in scikit-learn. \n",
    "* **Process**:\n",
    "    - 1. Train the model for different hyperparameters\n",
    "    - 2. Select the hyperparameters with the best scoring on the validation set\n",
    "    - 3. Test the model's performance use the test data with the best combination of hyperparameters\n",
    "</font>\n",
    "\n",
    "[5-minutes intro video](https://www.coursera.org/lecture/data-analysis-with-python/grid-search-e4fyg)<br>\n",
    "\n",
    "**Example with a linear regression problem**\n",
    "\n"
   ]
  },
  {
   "cell_type": "code",
   "execution_count": 2,
   "metadata": {},
   "outputs": [],
   "source": [
    "from sklearn.linear_model import Ridge\n",
    "from sklearn.model_selection import GridSearchCV"
   ]
  },
  {
   "cell_type": "markdown",
   "metadata": {},
   "source": [
    "paramaters = [{'alpha':[1,10,100,1000]}, {'normalize':[True,False]}] # dictionary contains different paramater values\n",
    "\n",
    "RR=Ridge() # Create a Ridge regression model\n",
    "\n",
    "Grid = GridSearchCV() # Create GridSearchCV object \n",
    "\n",
    "Grid.fit(RR,paramaters,cv=4) # fit the object\n",
    "\n",
    "Grid.best_estimator_  # find the best values of hyperparamaters\n",
    "\n",
    "scores = Grid.cv_results_ # score for difference hyperparamaters"
   ]
  },
  {
   "cell_type": "markdown",
   "metadata": {},
   "source": [
    "***\n",
    "<font size='3'> \n",
    "**Quiz 1**:   \n",
    "1. Is Logistic Regression model a supervised learning or unsupervised learning? \n",
    "2. For a 7-fold cross-validation,how many subsets of data is used for training for each round?  \n",
    "</font>"
   ]
  },
  {
   "cell_type": "markdown",
   "metadata": {},
   "source": [
    "***\n",
    "<a id='models'></a>\n",
    "## 2. Machine Learning in Python\n",
    "<font size='3'>\n",
    "\n",
    "[scikit-learn documentation](https://scikit-learn.org/dev/index.html)<br>\n",
    "[StatsMoels documentation](http://www.statsmodels.org/stable/index.html)\n",
    "</font>"
   ]
  },
  {
   "cell_type": "code",
   "execution_count": 3,
   "metadata": {},
   "outputs": [],
   "source": [
    "from sklearn import datasets\n",
    "\n",
    "import matplotlib.pyplot as plt \n",
    "import numpy as np\n",
    "import pandas as pd\n",
    "%matplotlib inline\n",
    "\n",
    "np.random.seed(31415)"
   ]
  },
  {
   "cell_type": "markdown",
   "metadata": {},
   "source": [
    "* **datasets.load_**: no missing values, ready to fit \n",
    "* **datasets.fetch_**: large data, fetch_mldata('dataset_name')\n",
    "* **datasets.make_**:  make datasets manually"
   ]
  },
  {
   "cell_type": "code",
   "execution_count": 4,
   "metadata": {},
   "outputs": [
    {
     "name": "stdout",
     "output_type": "stream",
     "text": [
      ".. _iris_dataset:\n",
      "\n",
      "Iris plants dataset\n",
      "--------------------\n",
      "\n",
      "**Data Set Characteristics:**\n",
      "\n",
      "    :Number of Instances: 150 (50 in each of three classes)\n",
      "    :Number of Attributes: 4 numeric, predictive attributes and the class\n",
      "    :Attribute Information:\n",
      "        - sepal length in cm\n",
      "        - sepal width in cm\n",
      "        - petal length in cm\n",
      "        - petal width in cm\n",
      "        - class:\n",
      "                - Iris-Setosa\n",
      "                - Iris-Versicolour\n",
      "                - Iris-Virginica\n",
      "                \n",
      "    :Summary Statistics:\n",
      "\n",
      "    ============== ==== ==== ======= ===== ====================\n",
      "                    Min  Max   Mean    SD   Class Correlation\n",
      "    ============== ==== ==== ======= ===== ====================\n",
      "    sepal length:   4.3  7.9   5.84   0.83    0.7826\n",
      "    sepal width:    2.0  4.4   3.05   0.43   -0.4194\n",
      "    petal length:   1.0  6.9   3.76   1.76    0.9490  (high!)\n",
      "    petal width:    0.1  2.5   1.20   0.76    0.9565  (high!)\n",
      "    ============== ==== ==== ======= ===== ====================\n",
      "\n",
      "    :Missing Attribute Values: None\n",
      "    :Class Distribution: 33.3% for each of 3 classes.\n",
      "    :Creator: R.A. Fisher\n",
      "    :Donor: Michael Marshall (MARSHALL%PLU@io.arc.nasa.gov)\n",
      "    :Date: July, 1988\n",
      "\n",
      "The famous Iris database, first used by Sir R.A. Fisher. The dataset is taken\n",
      "from Fisher's paper. Note that it's the same as in R, but not as in the UCI\n",
      "Machine Learning Repository, which has two wrong data points.\n",
      "\n",
      "This is perhaps the best known database to be found in the\n",
      "pattern recognition literature.  Fisher's paper is a classic in the field and\n",
      "is referenced frequently to this day.  (See Duda & Hart, for example.)  The\n",
      "data set contains 3 classes of 50 instances each, where each class refers to a\n",
      "type of iris plant.  One class is linearly separable from the other 2; the\n",
      "latter are NOT linearly separable from each other.\n",
      "\n",
      ".. topic:: References\n",
      "\n",
      "   - Fisher, R.A. \"The use of multiple measurements in taxonomic problems\"\n",
      "     Annual Eugenics, 7, Part II, 179-188 (1936); also in \"Contributions to\n",
      "     Mathematical Statistics\" (John Wiley, NY, 1950).\n",
      "   - Duda, R.O., & Hart, P.E. (1973) Pattern Classification and Scene Analysis.\n",
      "     (Q327.D83) John Wiley & Sons.  ISBN 0-471-22361-1.  See page 218.\n",
      "   - Dasarathy, B.V. (1980) \"Nosing Around the Neighborhood: A New System\n",
      "     Structure and Classification Rule for Recognition in Partially Exposed\n",
      "     Environments\".  IEEE Transactions on Pattern Analysis and Machine\n",
      "     Intelligence, Vol. PAMI-2, No. 1, 67-71.\n",
      "   - Gates, G.W. (1972) \"The Reduced Nearest Neighbor Rule\".  IEEE Transactions\n",
      "     on Information Theory, May 1972, 431-433.\n",
      "   - See also: 1988 MLC Proceedings, 54-64.  Cheeseman et al\"s AUTOCLASS II\n",
      "     conceptual clustering system finds 3 classes in the data.\n",
      "   - Many, many more ...\n"
     ]
    }
   ],
   "source": [
    "data = datasets.load_iris()\n",
    "print(data.DESCR)"
   ]
  },
  {
   "cell_type": "code",
   "execution_count": 5,
   "metadata": {},
   "outputs": [],
   "source": [
    "X, Y = datasets.make_blobs(n_samples=300, n_features=2,centers=3,random_state=2) # 3 clusters"
   ]
  },
  {
   "cell_type": "code",
   "execution_count": 6,
   "metadata": {},
   "outputs": [
    {
     "data": {
      "text/plain": [
       "((300, 2), (300,))"
      ]
     },
     "execution_count": 6,
     "metadata": {},
     "output_type": "execute_result"
    }
   ],
   "source": [
    "X.shape, Y.shape"
   ]
  },
  {
   "cell_type": "code",
   "execution_count": 7,
   "metadata": {
    "scrolled": true
   },
   "outputs": [
    {
     "data": {
      "text/plain": [
       "<matplotlib.collections.PathCollection at 0x1a1a449908>"
      ]
     },
     "execution_count": 7,
     "metadata": {},
     "output_type": "execute_result"
    },
    {
     "data": {
      "image/png": "[encoded data removed]",
      "text/plain": [
       "<Figure size 432x288 with 1 Axes>"
      ]
     },
     "metadata": {
      "needs_background": "light"
     },
     "output_type": "display_data"
    }
   ],
   "source": [
    "# exercise: create visualization to the above given data, see how the cluster is spread\n",
    "import matplotlib.pyplot as plt \n",
    "%matplotlib inline\n",
    "plt.scatter(X[:,0],X[:,1],c=Y)"
   ]
  },
  {
   "cell_type": "markdown",
   "metadata": {},
   "source": [
    "***\n",
    "<a id='linear'></a>\n",
    "### 2.1 Linear models\n",
    "#### 2.1.1 Linear regression - Diabetes data set\n",
    "<font size='3'>\n",
    "\n",
    "* a) Using Statsmodels\n",
    "\n",
    "[Statsmodel - Linear Regression](https://www.statsmodels.org/stable/regression.html)<br>\n",
    "[Fitting models using R-style formulas](https://www.statsmodels.org/devel/example_formulas.html)\n",
    "</font>"
   ]
  },
  {
   "cell_type": "code",
   "execution_count": 8,
   "metadata": {},
   "outputs": [],
   "source": [
    "from sklearn import datasets\n",
    "from sklearn.model_selection import train_test_split\n",
    "from sklearn.metrics import mean_squared_error,r2_score, explained_variance_score\n",
    "import statsmodels.formula.api as smf # enables using R-style formulas"
   ]
  },
  {
   "cell_type": "code",
   "execution_count": 9,
   "metadata": {},
   "outputs": [
    {
     "name": "stdout",
     "output_type": "stream",
     "text": [
      ".. _diabetes_dataset:\n",
      "\n",
      "Diabetes dataset\n",
      "----------------\n",
      "\n",
      "Ten baseline variables, age, sex, body mass index, average blood\n",
      "pressure, and six blood serum measurements were obtained for each of n =\n",
      "442 diabetes patients, as well as the response of interest, a\n",
      "quantitative measure of disease progression one year after baseline.\n",
      "\n",
      "**Data Set Characteristics:**\n",
      "\n",
      "  :Number of Instances: 442\n",
      "\n",
      "  :Number of Attributes: First 10 columns are numeric predictive values\n",
      "\n",
      "  :Target: Column 11 is a quantitative measure of disease progression one year after baseline\n",
      "\n",
      "  :Attribute Information:\n",
      "      - Age\n",
      "      - Sex\n",
      "      - Body mass index\n",
      "      - Average blood pressure\n",
      "      - S1\n",
      "      - S2\n",
      "      - S3\n",
      "      - S4\n",
      "      - S5\n",
      "      - S6\n",
      "\n",
      "Note: Each of these 10 feature variables have been mean centered and scaled by the standard deviation times `n_samples` (i.e. the sum of squares of each column totals 1).\n",
      "\n",
      "Source URL:\n",
      "http://www4.stat.ncsu.edu/~boos/var.select/diabetes.html\n",
      "\n",
      "For more information see:\n",
      "Bradley Efron, Trevor Hastie, Iain Johnstone and Robert Tibshirani (2004) \"Least Angle Regression,\" Annals of Statistics (with discussion), 407-499.\n",
      "(http://web.stanford.edu/~hastie/Papers/LARS/LeastAngle_2002.pdf)\n"
     ]
    }
   ],
   "source": [
    "# load data\n",
    "diabetes = datasets.load_diabetes()\n",
    "print(diabetes.DESCR)"
   ]
  },
  {
   "cell_type": "code",
   "execution_count": 10,
   "metadata": {},
   "outputs": [
    {
     "data": {
      "text/plain": [
       "(442, 10)"
      ]
     },
     "execution_count": 10,
     "metadata": {},
     "output_type": "execute_result"
    }
   ],
   "source": [
    "diabetes.data.shape"
   ]
  },
  {
   "cell_type": "code",
   "execution_count": 11,
   "metadata": {
    "scrolled": true
   },
   "outputs": [
    {
     "data": {
      "text/plain": [
       "array([[ 0.03807591,  0.05068012,  0.06169621,  0.02187235, -0.0442235 ,\n",
       "        -0.03482076, -0.04340085, -0.00259226,  0.01990842, -0.01764613],\n",
       "       [-0.00188202, -0.04464164, -0.05147406, -0.02632783, -0.00844872,\n",
       "        -0.01916334,  0.07441156, -0.03949338, -0.06832974, -0.09220405],\n",
       "       [ 0.08529891,  0.05068012,  0.04445121, -0.00567061, -0.04559945,\n",
       "        -0.03419447, -0.03235593, -0.00259226,  0.00286377, -0.02593034],\n",
       "       [-0.08906294, -0.04464164, -0.01159501, -0.03665645,  0.01219057,\n",
       "         0.02499059, -0.03603757,  0.03430886,  0.02269202, -0.00936191],\n",
       "       [ 0.00538306, -0.04464164, -0.03638469,  0.02187235,  0.00393485,\n",
       "         0.01559614,  0.00814208, -0.00259226, -0.03199144, -0.04664087]])"
      ]
     },
     "execution_count": 11,
     "metadata": {},
     "output_type": "execute_result"
    }
   ],
   "source": [
    "diabetes.data[0:5]"
   ]
  },
  {
   "cell_type": "code",
   "execution_count": 12,
   "metadata": {},
   "outputs": [
    {
     "name": "stdout",
     "output_type": "stream",
     "text": [
      "(353, 10) (353, 1)\n",
      "(89, 10) (89, 1)\n"
     ]
    }
   ],
   "source": [
    "columns = 'age sex bmi map S1 S3 S3 S4 S5 S6'.split()\n",
    "diabetes_df = pd.DataFrame(diabetes.data,columns = columns) \n",
    "y_df = pd.DataFrame(diabetes.target) # define target variable \n",
    "# y = diabetes.target \n",
    "\n",
    "# split data into traing and testing sets\n",
    "diabetes_X_train, diabetes_X_test, diabetes_y_train, diabetes_y_test = train_test_split(diabetes_df,y_df,test_size=0.2,random_state=2)\n",
    "print(diabetes_X_train.shape,diabetes_y_train.shape)\n",
    "print(diabetes_X_test.shape,diabetes_y_test.shape)\n"
   ]
  },
  {
   "cell_type": "code",
   "execution_count": 13,
   "metadata": {
    "scrolled": false
   },
   "outputs": [
    {
     "name": "stdout",
     "output_type": "stream",
     "text": [
      "                            OLS Regression Results                            \n",
      "==============================================================================\n",
      "Dep. Variable:                 target   R-squared:                       0.532\n",
      "Model:                            OLS   Adj. R-squared:                  0.519\n",
      "Method:                 Least Squares   F-statistic:                     38.93\n",
      "Date:                Mon, 01 Jul 2019   Prob (F-statistic):           1.11e-50\n",
      "Time:                        09:47:06   Log-Likelihood:                -1902.7\n",
      "No. Observations:                 353   AIC:                             3827.\n",
      "Df Residuals:                     342   BIC:                             3870.\n",
      "Df Model:                          10                                         \n",
      "Covariance Type:            nonrobust                                         \n",
      "==============================================================================\n",
      "                 coef    std err          t      P>|t|      [0.025      0.975]\n",
      "------------------------------------------------------------------------------\n",
      "Intercept    151.8833      2.878     52.783      0.000     146.223     157.543\n",
      "age           -9.1609     67.371     -0.136      0.892    -141.674     123.352\n",
      "sex         -205.4623     69.129     -2.972      0.003    -341.433     -69.491\n",
      "bmi          516.6846     76.318      6.770      0.000     366.574     666.796\n",
      "map          340.6273     72.637      4.689      0.000     197.755     483.500\n",
      "S1          -895.5436    454.650     -1.970      0.050   -1789.806      -1.281\n",
      "S3[0]        561.2145    371.297      1.511      0.132    -169.098    1291.527\n",
      "S3[1]        153.8848    232.458      0.662      0.508    -303.342     611.111\n",
      "S4           126.7343    191.715      0.661      0.509    -250.355     503.824\n",
      "S5           861.1214    188.782      4.561      0.000     489.802    1232.441\n",
      "S6            52.4198     74.573      0.703      0.483     -94.259     199.099\n",
      "==============================================================================\n",
      "Omnibus:                        0.580   Durbin-Watson:                   2.149\n",
      "Prob(Omnibus):                  0.748   Jarque-Bera (JB):                0.694\n",
      "Skew:                          -0.038   Prob(JB):                        0.707\n",
      "Kurtosis:                       2.797   Cond. No.                         223.\n",
      "==============================================================================\n",
      "\n",
      "Warnings:\n",
      "[1] Standard Errors assume that the covariance matrix of the errors is correctly specified.\n"
     ]
    }
   ],
   "source": [
    "# combine target and variables \n",
    "diabetes_df1 = pd.concat([diabetes_X_train,diabetes_y_train], axis=1).rename(columns={0:'target'})\n",
    "\n",
    "# fit model\n",
    "diabetes_lm1 = smf.ols('target ~ age+sex+bmi+map+S1+S3+S3+S4+S5+S6', data = diabetes_df1).fit() # doesn't support '.'\n",
    "\n",
    "# print summary\n",
    "print(diabetes_lm1.summary())"
   ]
  },
  {
   "cell_type": "code",
   "execution_count": 14,
   "metadata": {
    "scrolled": true
   },
   "outputs": [
    {
     "data": {
      "text/plain": [
       "212    154.123507\n",
       "422    204.817216\n",
       "67     124.929880\n",
       "89     106.093396\n",
       "390    258.530357\n",
       "dtype: float64"
      ]
     },
     "execution_count": 14,
     "metadata": {},
     "output_type": "execute_result"
    }
   ],
   "source": [
    "# make predictions \n",
    "diabetes_pred1 = diabetes_lm1.predict(diabetes_X_test)\n",
    "diabetes_pred1.head()"
   ]
  },
  {
   "cell_type": "code",
   "execution_count": 15,
   "metadata": {
    "scrolled": true
   },
   "outputs": [
    {
     "name": "stdout",
     "output_type": "stream",
     "text": [
      "Mean Square Error: 3094.43 \n",
      "\n",
      "r2 score: 0.44\n"
     ]
    }
   ],
   "source": [
    "# MSE\n",
    "print('Mean Square Error: %.2f' % mean_squared_error(diabetes_y_test,diabetes_pred1),'\\n')\n",
    "\n",
    "# R^2\n",
    "print('r2 score: %.2f' % r2_score(diabetes_y_test,diabetes_pred1))"
   ]
  },
  {
   "cell_type": "code",
   "execution_count": 16,
   "metadata": {},
   "outputs": [
    {
     "name": "stdout",
     "output_type": "stream",
     "text": [
      "R-squared as coefficient of determination :  0    0.439939\n",
      "dtype: float64 \n",
      "\n"
     ]
    }
   ],
   "source": [
    "# manual calculation \n",
    "y_pred = pd.DataFrame(diabetes_pred1)\n",
    "rss = np.sum((y_pred - diabetes_y_test)**2)\n",
    "tot = np.sum((diabetes_y_test - np.mean(diabetes_y_test))**2)\n",
    "#reg = np.sum((y_pred_train-np.mean(diabetes_y_test))**2)\n",
    "print('R-squared as coefficient of determination : ', 1-(rss/tot), '\\n')"
   ]
  },
  {
   "cell_type": "markdown",
   "metadata": {},
   "source": [
    "*** \n",
    "<font size='3'>\n",
    "    \n",
    "* b) Using Sklearn<br>\n",
    "**NOTE** : sklearn does not return p-value, have to manually calculate with significance test on X, y directly\n",
    "\n",
    "[Sklearn - Linear Regression](https://scikit-learn.org/stable/modules/generated/sklearn.linear_model.LinearRegression.html)</font>"
   ]
  },
  {
   "cell_type": "code",
   "execution_count": 17,
   "metadata": {},
   "outputs": [],
   "source": [
    "from sklearn import linear_model"
   ]
  },
  {
   "cell_type": "code",
   "execution_count": 18,
   "metadata": {},
   "outputs": [
    {
     "data": {
      "text/plain": [
       "array([[154.1235067 ],\n",
       "       [204.81721599],\n",
       "       [124.92988001],\n",
       "       [106.09339576],\n",
       "       [258.53035681]])"
      ]
     },
     "execution_count": 18,
     "metadata": {},
     "output_type": "execute_result"
    }
   ],
   "source": [
    "# create linear regression object\n",
    "diabetes_lm2 = linear_model.LinearRegression() \n",
    "\n",
    "# train the model using the training set \n",
    "diabetes_model2 = diabetes_lm2.fit(diabetes_X_train,diabetes_y_train)\n",
    "\n",
    "# make predictions using the test set\n",
    "diabetes_pred2 = diabetes_lm2.predict(diabetes_X_test)\n",
    "\n",
    "# look at the first 5 predictions \n",
    "diabetes_pred2[0:5]"
   ]
  },
  {
   "cell_type": "code",
   "execution_count": 19,
   "metadata": {},
   "outputs": [
    {
     "name": "stdout",
     "output_type": "stream",
     "text": [
      "Coefficients: \n",
      " [[  -9.16088483 -205.46225988  516.68462383  340.62734108 -895.54360867\n",
      "   561.21453306  153.88478595  126.73431596  861.12139955   52.41982836]] \n",
      "\n",
      "Mean Square Error: 3094.43 \n",
      "\n",
      "r2 score: 0.44\n",
      "0.4402180731772275\n"
     ]
    }
   ],
   "source": [
    "# The coefficients\n",
    "print('Coefficients: \\n',diabetes_model2.coef_,'\\n')\n",
    "\n",
    "# MSE\n",
    "print('Mean Square Error: %.2f' % mean_squared_error(diabetes_y_test,diabetes_pred2),'\\n')\n",
    "\n",
    "# R^2\n",
    "print('r2 score: %.2f' % r2_score(diabetes_y_test,diabetes_pred2))\n",
    "\n",
    "# explained variance score\n",
    "print(explained_variance_score(diabetes_y_test,diabetes_pred2))"
   ]
  },
  {
   "cell_type": "markdown",
   "metadata": {},
   "source": [
    "***\n",
    "<a id='logistic'></a>\n",
    "#### 2.2.2 Logistic regression - Breast cancer data set\n",
    "<font size='3'>\n",
    "\n",
    "* 1. Key notes\n",
    "    - [Standarization](https://scikit-learn.org/stable/modules/generated/sklearn.preprocessing.StandardScaler.html) is not required for a normal logistic regression, but it helps for interpreting feature importance,every value is rescaled such that mean = 0 and S.D = 1; However for regularized logistic regression, continuous variables should be standardized for best results.\n",
    "    - [Label Encoding](https://scikit-learn.org/stable/modules/generated/sklearn.preprocessing.LabelEncoder.html) and [One Hot Encoding](https://scikit-learn.org/stable/modules/generated/sklearn.preprocessing.OneHotEncoder.html)\n",
    "        - Label-encoding converts categorical labels to numerical values,should be applied before one-hot-encoding\n",
    "        - One-hot-encoding converts numerical labels to dummy variables,creates sparse matrix.\n",
    "    - [Evaluation metrics](https://scikit-learn.org/stable/modules/classes.html#module-sklearn.metrics): accuracy, precision, recall, F1-score, ROC curve, etc\n",
    "* 2. Imbalance data\n",
    "    - [Under sampling](https://imbalanced-learn.readthedocs.io/en/stable/api.html#module-imblearn.under_sampling): reduces observations in over-represented group\n",
    "    - [Over sampling - e.g.SMOTE](https://imbalanced-learn.readthedocs.io/en/stable/generated/imblearn.over_sampling.SMOTE.html): increases observations in under-represented group\n",
    "* 3. [Regularizations](https://www.youtube.com/watch?v=IXPgm1e0IOo):are shrinkage methods that shrink coefficient towards zero to prevent overfitting by reducing the variance of the model.\n",
    "    - **Lasso regression (L1)**: adds “absolute value of magnitude” of coefficient as penalty term to the loss function,shrinks the less important feature's coefficients to zero, thus removing some features all together\n",
    "    - **Ridge regression (L2)**: adds “squared magnitude” of coefficient as penalty term to the loss function\n",
    "\n",
    "\n",
    "Other references:\n",
    "* 1. [Sklearn - Logistic Regression](https://scikit-learn.org/stable/modules/generated/sklearn.linear_model.LogisticRegression.html)\n",
    "* 2. [Optimization](https://en.wikipedia.org/wiki/Limited-memory_BFGS)\n",
    "* 3. [L1 and L2 Regularization Methods](https://towardsdatascience.com/l1-and-l2-regularization-methods-ce25e7fc831c)</font>"
   ]
  },
  {
   "cell_type": "code",
   "execution_count": 20,
   "metadata": {},
   "outputs": [],
   "source": [
    "from sklearn.linear_model import LogisticRegression\n",
    "from sklearn.metrics import confusion_matrix, accuracy_score,recall_score,f1_score,roc_curve,auc,roc_auc_score,classification_report"
   ]
  },
  {
   "cell_type": "code",
   "execution_count": 21,
   "metadata": {
    "scrolled": false
   },
   "outputs": [
    {
     "name": "stdout",
     "output_type": "stream",
     "text": [
      ".. _breast_cancer_dataset:\n",
      "\n",
      "Breast cancer wisconsin (diagnostic) dataset\n",
      "--------------------------------------------\n",
      "\n",
      "**Data Set Characteristics:**\n",
      "\n",
      "    :Number of Instances: 569\n",
      "\n",
      "    :Number of Attributes: 30 numeric, predictive attributes and the class\n",
      "\n",
      "    :Attribute Information:\n",
      "        - radius (mean of distances from center to points on the perimeter)\n",
      "        - texture (standard deviation of gray-scale values)\n",
      "        - perimeter\n",
      "        - area\n",
      "        - smoothness (local variation in radius lengths)\n",
      "        - compactness (perimeter^2 / area - 1.0)\n",
      "        - concavity (severity of concave portions of the contour)\n",
      "        - concave points (number of concave portions of the contour)\n",
      "        - symmetry \n",
      "        - fractal dimension (\"coastline approximation\" - 1)\n",
      "\n",
      "        The mean, standard error, and \"worst\" or largest (mean of the three\n",
      "        largest values) of these features were computed for each image,\n",
      "        resulting in 30 features.  For instance, field 3 is Mean Radius, field\n",
      "        13 is Radius SE, field 23 is Worst Radius.\n",
      "\n",
      "        - class:\n",
      "                - WDBC-Malignant\n",
      "                - WDBC-Benign\n",
      "\n",
      "    :Summary Statistics:\n",
      "\n",
      "    ===================================== ====== ======\n",
      "                                           Min    Max\n",
      "    ===================================== ====== ======\n",
      "    radius (mean):                        6.981  28.11\n",
      "    texture (mean):                       9.71   39.28\n",
      "    perimeter (mean):                     43.79  188.5\n",
      "    area (mean):                          143.5  2501.0\n",
      "    smoothness (mean):                    0.053  0.163\n",
      "    compactness (mean):                   0.019  0.345\n",
      "    concavity (mean):                     0.0    0.427\n",
      "    concave points (mean):                0.0    0.201\n",
      "    symmetry (mean):                      0.106  0.304\n",
      "    fractal dimension (mean):             0.05   0.097\n",
      "    radius (standard error):              0.112  2.873\n",
      "    texture (standard error):             0.36   4.885\n",
      "    perimeter (standard error):           0.757  21.98\n",
      "    area (standard error):                6.802  542.2\n",
      "    smoothness (standard error):          0.002  0.031\n",
      "    compactness (standard error):         0.002  0.135\n",
      "    concavity (standard error):           0.0    0.396\n",
      "    concave points (standard error):      0.0    0.053\n",
      "    symmetry (standard error):            0.008  0.079\n",
      "    fractal dimension (standard error):   0.001  0.03\n",
      "    radius (worst):                       7.93   36.04\n",
      "    texture (worst):                      12.02  49.54\n",
      "    perimeter (worst):                    50.41  251.2\n",
      "    area (worst):                         185.2  4254.0\n",
      "    smoothness (worst):                   0.071  0.223\n",
      "    compactness (worst):                  0.027  1.058\n",
      "    concavity (worst):                    0.0    1.252\n",
      "    concave points (worst):               0.0    0.291\n",
      "    symmetry (worst):                     0.156  0.664\n",
      "    fractal dimension (worst):            0.055  0.208\n",
      "    ===================================== ====== ======\n",
      "\n",
      "    :Missing Attribute Values: None\n",
      "\n",
      "    :Class Distribution: 212 - Malignant, 357 - Benign\n",
      "\n",
      "    :Creator:  Dr. William H. Wolberg, W. Nick Street, Olvi L. Mangasarian\n",
      "\n",
      "    :Donor: Nick Street\n",
      "\n",
      "    :Date: November, 1995\n",
      "\n",
      "This is a copy of UCI ML Breast Cancer Wisconsin (Diagnostic) datasets.\n",
      "https://goo.gl/U2Uwz2\n",
      "\n",
      "Features are computed from a digitized image of a fine needle\n",
      "aspirate (FNA) of a breast mass.  They describe\n",
      "characteristics of the cell nuclei present in the image.\n",
      "\n",
      "Separating plane described above was obtained using\n",
      "Multisurface Method-Tree (MSM-T) [K. P. Bennett, \"Decision Tree\n",
      "Construction Via Linear Programming.\" Proceedings of the 4th\n",
      "Midwest Artificial Intelligence and Cognitive Science Society,\n",
      "pp. 97-101, 1992], a classification method which uses linear\n",
      "programming to construct a decision tree.  Relevant features\n",
      "were selected using an exhaustive search in the space of 1-4\n",
      "features and 1-3 separating planes.\n",
      "\n",
      "The actual linear program used to obtain the separating plane\n",
      "in the 3-dimensional space is that described in:\n",
      "[K. P. Bennett and O. L. Mangasarian: \"Robust Linear\n",
      "Programming Discrimination of Two Linearly Inseparable Sets\",\n",
      "Optimization Methods and Software 1, 1992, 23-34].\n",
      "\n",
      "This database is also available through the UW CS ftp server:\n",
      "\n",
      "ftp ftp.cs.wisc.edu\n",
      "cd math-prog/cpo-dataset/machine-learn/WDBC/\n",
      "\n",
      ".. topic:: References\n",
      "\n",
      "   - W.N. Street, W.H. Wolberg and O.L. Mangasarian. Nuclear feature extraction \n",
      "     for breast tumor diagnosis. IS&T/SPIE 1993 International Symposium on \n",
      "     Electronic Imaging: Science and Technology, volume 1905, pages 861-870,\n",
      "     San Jose, CA, 1993.\n",
      "   - O.L. Mangasarian, W.N. Street and W.H. Wolberg. Breast cancer diagnosis and \n",
      "     prognosis via linear programming. Operations Research, 43(4), pages 570-577, \n",
      "     July-August 1995.\n",
      "   - W.H. Wolberg, W.N. Street, and O.L. Mangasarian. Machine learning techniques\n",
      "     to diagnose breast cancer from fine-needle aspirates. Cancer Letters 77 (1994) \n",
      "     163-171.\n"
     ]
    }
   ],
   "source": [
    "# load data \n",
    "cancer = datasets.load_breast_cancer()\n",
    "print(cancer.DESCR)"
   ]
  },
  {
   "cell_type": "code",
   "execution_count": 22,
   "metadata": {},
   "outputs": [
    {
     "data": {
      "text/plain": [
       "(569, 30)"
      ]
     },
     "execution_count": 22,
     "metadata": {},
     "output_type": "execute_result"
    }
   ],
   "source": [
    "cancer_df = pd.DataFrame(cancer.data)\n",
    "cancer_target = cancer.target\n",
    "cancer_df.shape"
   ]
  },
  {
   "cell_type": "code",
   "execution_count": 23,
   "metadata": {
    "scrolled": false
   },
   "outputs": [
    {
     "data": {
      "text/html": [
       "<div>\n",
       "<style scoped>\n",
       "    .dataframe tbody tr th:only-of-type {\n",
       "        vertical-align: middle;\n",
       "    }\n",
       "\n",
       "    .dataframe tbody tr th {\n",
       "        vertical-align: top;\n",
       "    }\n",
       "\n",
       "    .dataframe thead th {\n",
       "        text-align: right;\n",
       "    }\n",
       "</style>\n",
       "<table border=\"1\" class=\"dataframe\">\n",
       "  <thead>\n",
       "    <tr style=\"text-align: right;\">\n",
       "      <th></th>\n",
       "      <th>0</th>\n",
       "      <th>1</th>\n",
       "      <th>2</th>\n",
       "      <th>3</th>\n",
       "      <th>4</th>\n",
       "      <th>5</th>\n",
       "      <th>6</th>\n",
       "      <th>7</th>\n",
       "      <th>8</th>\n",
       "      <th>9</th>\n",
       "      <th>...</th>\n",
       "      <th>20</th>\n",
       "      <th>21</th>\n",
       "      <th>22</th>\n",
       "      <th>23</th>\n",
       "      <th>24</th>\n",
       "      <th>25</th>\n",
       "      <th>26</th>\n",
       "      <th>27</th>\n",
       "      <th>28</th>\n",
       "      <th>29</th>\n",
       "    </tr>\n",
       "  </thead>\n",
       "  <tbody>\n",
       "    <tr>\n",
       "      <th>0</th>\n",
       "      <td>17.99</td>\n",
       "      <td>10.38</td>\n",
       "      <td>122.80</td>\n",
       "      <td>1001.0</td>\n",
       "      <td>0.11840</td>\n",
       "      <td>0.27760</td>\n",
       "      <td>0.3001</td>\n",
       "      <td>0.14710</td>\n",
       "      <td>0.2419</td>\n",
       "      <td>0.07871</td>\n",
       "      <td>...</td>\n",
       "      <td>25.38</td>\n",
       "      <td>17.33</td>\n",
       "      <td>184.60</td>\n",
       "      <td>2019.0</td>\n",
       "      <td>0.1622</td>\n",
       "      <td>0.6656</td>\n",
       "      <td>0.7119</td>\n",
       "      <td>0.2654</td>\n",
       "      <td>0.4601</td>\n",
       "      <td>0.11890</td>\n",
       "    </tr>\n",
       "    <tr>\n",
       "      <th>1</th>\n",
       "      <td>20.57</td>\n",
       "      <td>17.77</td>\n",
       "      <td>132.90</td>\n",
       "      <td>1326.0</td>\n",
       "      <td>0.08474</td>\n",
       "      <td>0.07864</td>\n",
       "      <td>0.0869</td>\n",
       "      <td>0.07017</td>\n",
       "      <td>0.1812</td>\n",
       "      <td>0.05667</td>\n",
       "      <td>...</td>\n",
       "      <td>24.99</td>\n",
       "      <td>23.41</td>\n",
       "      <td>158.80</td>\n",
       "      <td>1956.0</td>\n",
       "      <td>0.1238</td>\n",
       "      <td>0.1866</td>\n",
       "      <td>0.2416</td>\n",
       "      <td>0.1860</td>\n",
       "      <td>0.2750</td>\n",
       "      <td>0.08902</td>\n",
       "    </tr>\n",
       "    <tr>\n",
       "      <th>2</th>\n",
       "      <td>19.69</td>\n",
       "      <td>21.25</td>\n",
       "      <td>130.00</td>\n",
       "      <td>1203.0</td>\n",
       "      <td>0.10960</td>\n",
       "      <td>0.15990</td>\n",
       "      <td>0.1974</td>\n",
       "      <td>0.12790</td>\n",
       "      <td>0.2069</td>\n",
       "      <td>0.05999</td>\n",
       "      <td>...</td>\n",
       "      <td>23.57</td>\n",
       "      <td>25.53</td>\n",
       "      <td>152.50</td>\n",
       "      <td>1709.0</td>\n",
       "      <td>0.1444</td>\n",
       "      <td>0.4245</td>\n",
       "      <td>0.4504</td>\n",
       "      <td>0.2430</td>\n",
       "      <td>0.3613</td>\n",
       "      <td>0.08758</td>\n",
       "    </tr>\n",
       "    <tr>\n",
       "      <th>3</th>\n",
       "      <td>11.42</td>\n",
       "      <td>20.38</td>\n",
       "      <td>77.58</td>\n",
       "      <td>386.1</td>\n",
       "      <td>0.14250</td>\n",
       "      <td>0.28390</td>\n",
       "      <td>0.2414</td>\n",
       "      <td>0.10520</td>\n",
       "      <td>0.2597</td>\n",
       "      <td>0.09744</td>\n",
       "      <td>...</td>\n",
       "      <td>14.91</td>\n",
       "      <td>26.50</td>\n",
       "      <td>98.87</td>\n",
       "      <td>567.7</td>\n",
       "      <td>0.2098</td>\n",
       "      <td>0.8663</td>\n",
       "      <td>0.6869</td>\n",
       "      <td>0.2575</td>\n",
       "      <td>0.6638</td>\n",
       "      <td>0.17300</td>\n",
       "    </tr>\n",
       "    <tr>\n",
       "      <th>4</th>\n",
       "      <td>20.29</td>\n",
       "      <td>14.34</td>\n",
       "      <td>135.10</td>\n",
       "      <td>1297.0</td>\n",
       "      <td>0.10030</td>\n",
       "      <td>0.13280</td>\n",
       "      <td>0.1980</td>\n",
       "      <td>0.10430</td>\n",
       "      <td>0.1809</td>\n",
       "      <td>0.05883</td>\n",
       "      <td>...</td>\n",
       "      <td>22.54</td>\n",
       "      <td>16.67</td>\n",
       "      <td>152.20</td>\n",
       "      <td>1575.0</td>\n",
       "      <td>0.1374</td>\n",
       "      <td>0.2050</td>\n",
       "      <td>0.4000</td>\n",
       "      <td>0.1625</td>\n",
       "      <td>0.2364</td>\n",
       "      <td>0.07678</td>\n",
       "    </tr>\n",
       "  </tbody>\n",
       "</table>\n",
       "<p>5 rows × 30 columns</p>\n",
       "</div>"
      ],
      "text/plain": [
       "      0      1       2       3        4        5       6        7       8   \\\n",
       "0  17.99  10.38  122.80  1001.0  0.11840  0.27760  0.3001  0.14710  0.2419   \n",
       "1  20.57  17.77  132.90  1326.0  0.08474  0.07864  0.0869  0.07017  0.1812   \n",
       "2  19.69  21.25  130.00  1203.0  0.10960  0.15990  0.1974  0.12790  0.2069   \n",
       "3  11.42  20.38   77.58   386.1  0.14250  0.28390  0.2414  0.10520  0.2597   \n",
       "4  20.29  14.34  135.10  1297.0  0.10030  0.13280  0.1980  0.10430  0.1809   \n",
       "\n",
       "        9    ...        20     21      22      23      24      25      26  \\\n",
       "0  0.07871   ...     25.38  17.33  184.60  2019.0  0.1622  0.6656  0.7119   \n",
       "1  0.05667   ...     24.99  23.41  158.80  1956.0  0.1238  0.1866  0.2416   \n",
       "2  0.05999   ...     23.57  25.53  152.50  1709.0  0.1444  0.4245  0.4504   \n",
       "3  0.09744   ...     14.91  26.50   98.87   567.7  0.2098  0.8663  0.6869   \n",
       "4  0.05883   ...     22.54  16.67  152.20  1575.0  0.1374  0.2050  0.4000   \n",
       "\n",
       "       27      28       29  \n",
       "0  0.2654  0.4601  0.11890  \n",
       "1  0.1860  0.2750  0.08902  \n",
       "2  0.2430  0.3613  0.08758  \n",
       "3  0.2575  0.6638  0.17300  \n",
       "4  0.1625  0.2364  0.07678  \n",
       "\n",
       "[5 rows x 30 columns]"
      ]
     },
     "execution_count": 23,
     "metadata": {},
     "output_type": "execute_result"
    }
   ],
   "source": [
    "cancer_df.head()"
   ]
  },
  {
   "cell_type": "code",
   "execution_count": 24,
   "metadata": {},
   "outputs": [
    {
     "data": {
      "text/html": [
       "<div>\n",
       "<style scoped>\n",
       "    .dataframe tbody tr th:only-of-type {\n",
       "        vertical-align: middle;\n",
       "    }\n",
       "\n",
       "    .dataframe tbody tr th {\n",
       "        vertical-align: top;\n",
       "    }\n",
       "\n",
       "    .dataframe thead th {\n",
       "        text-align: right;\n",
       "    }\n",
       "</style>\n",
       "<table border=\"1\" class=\"dataframe\">\n",
       "  <thead>\n",
       "    <tr style=\"text-align: right;\">\n",
       "      <th></th>\n",
       "      <th>mean radius</th>\n",
       "      <th>mean texture</th>\n",
       "      <th>mean perimeter</th>\n",
       "      <th>mean area</th>\n",
       "      <th>mean smoothness</th>\n",
       "      <th>mean compactness</th>\n",
       "      <th>mean concavity</th>\n",
       "      <th>mean concave points</th>\n",
       "      <th>mean symmetry</th>\n",
       "      <th>mean fractal dimension</th>\n",
       "      <th>...</th>\n",
       "      <th>worst radius</th>\n",
       "      <th>worst texture</th>\n",
       "      <th>worst perimeter</th>\n",
       "      <th>worst area</th>\n",
       "      <th>worst smoothness</th>\n",
       "      <th>worst compactness</th>\n",
       "      <th>worst concavity</th>\n",
       "      <th>worst concave points</th>\n",
       "      <th>worst symmetry</th>\n",
       "      <th>worst fractal dimension</th>\n",
       "    </tr>\n",
       "  </thead>\n",
       "  <tbody>\n",
       "    <tr>\n",
       "      <th>0</th>\n",
       "      <td>17.99</td>\n",
       "      <td>10.38</td>\n",
       "      <td>122.80</td>\n",
       "      <td>1001.0</td>\n",
       "      <td>0.11840</td>\n",
       "      <td>0.27760</td>\n",
       "      <td>0.3001</td>\n",
       "      <td>0.14710</td>\n",
       "      <td>0.2419</td>\n",
       "      <td>0.07871</td>\n",
       "      <td>...</td>\n",
       "      <td>25.38</td>\n",
       "      <td>17.33</td>\n",
       "      <td>184.60</td>\n",
       "      <td>2019.0</td>\n",
       "      <td>0.1622</td>\n",
       "      <td>0.6656</td>\n",
       "      <td>0.7119</td>\n",
       "      <td>0.2654</td>\n",
       "      <td>0.4601</td>\n",
       "      <td>0.11890</td>\n",
       "    </tr>\n",
       "    <tr>\n",
       "      <th>1</th>\n",
       "      <td>20.57</td>\n",
       "      <td>17.77</td>\n",
       "      <td>132.90</td>\n",
       "      <td>1326.0</td>\n",
       "      <td>0.08474</td>\n",
       "      <td>0.07864</td>\n",
       "      <td>0.0869</td>\n",
       "      <td>0.07017</td>\n",
       "      <td>0.1812</td>\n",
       "      <td>0.05667</td>\n",
       "      <td>...</td>\n",
       "      <td>24.99</td>\n",
       "      <td>23.41</td>\n",
       "      <td>158.80</td>\n",
       "      <td>1956.0</td>\n",
       "      <td>0.1238</td>\n",
       "      <td>0.1866</td>\n",
       "      <td>0.2416</td>\n",
       "      <td>0.1860</td>\n",
       "      <td>0.2750</td>\n",
       "      <td>0.08902</td>\n",
       "    </tr>\n",
       "    <tr>\n",
       "      <th>2</th>\n",
       "      <td>19.69</td>\n",
       "      <td>21.25</td>\n",
       "      <td>130.00</td>\n",
       "      <td>1203.0</td>\n",
       "      <td>0.10960</td>\n",
       "      <td>0.15990</td>\n",
       "      <td>0.1974</td>\n",
       "      <td>0.12790</td>\n",
       "      <td>0.2069</td>\n",
       "      <td>0.05999</td>\n",
       "      <td>...</td>\n",
       "      <td>23.57</td>\n",
       "      <td>25.53</td>\n",
       "      <td>152.50</td>\n",
       "      <td>1709.0</td>\n",
       "      <td>0.1444</td>\n",
       "      <td>0.4245</td>\n",
       "      <td>0.4504</td>\n",
       "      <td>0.2430</td>\n",
       "      <td>0.3613</td>\n",
       "      <td>0.08758</td>\n",
       "    </tr>\n",
       "    <tr>\n",
       "      <th>3</th>\n",
       "      <td>11.42</td>\n",
       "      <td>20.38</td>\n",
       "      <td>77.58</td>\n",
       "      <td>386.1</td>\n",
       "      <td>0.14250</td>\n",
       "      <td>0.28390</td>\n",
       "      <td>0.2414</td>\n",
       "      <td>0.10520</td>\n",
       "      <td>0.2597</td>\n",
       "      <td>0.09744</td>\n",
       "      <td>...</td>\n",
       "      <td>14.91</td>\n",
       "      <td>26.50</td>\n",
       "      <td>98.87</td>\n",
       "      <td>567.7</td>\n",
       "      <td>0.2098</td>\n",
       "      <td>0.8663</td>\n",
       "      <td>0.6869</td>\n",
       "      <td>0.2575</td>\n",
       "      <td>0.6638</td>\n",
       "      <td>0.17300</td>\n",
       "    </tr>\n",
       "    <tr>\n",
       "      <th>4</th>\n",
       "      <td>20.29</td>\n",
       "      <td>14.34</td>\n",
       "      <td>135.10</td>\n",
       "      <td>1297.0</td>\n",
       "      <td>0.10030</td>\n",
       "      <td>0.13280</td>\n",
       "      <td>0.1980</td>\n",
       "      <td>0.10430</td>\n",
       "      <td>0.1809</td>\n",
       "      <td>0.05883</td>\n",
       "      <td>...</td>\n",
       "      <td>22.54</td>\n",
       "      <td>16.67</td>\n",
       "      <td>152.20</td>\n",
       "      <td>1575.0</td>\n",
       "      <td>0.1374</td>\n",
       "      <td>0.2050</td>\n",
       "      <td>0.4000</td>\n",
       "      <td>0.1625</td>\n",
       "      <td>0.2364</td>\n",
       "      <td>0.07678</td>\n",
       "    </tr>\n",
       "  </tbody>\n",
       "</table>\n",
       "<p>5 rows × 30 columns</p>\n",
       "</div>"
      ],
      "text/plain": [
       "   mean radius  mean texture  mean perimeter  mean area  mean smoothness  \\\n",
       "0        17.99         10.38          122.80     1001.0          0.11840   \n",
       "1        20.57         17.77          132.90     1326.0          0.08474   \n",
       "2        19.69         21.25          130.00     1203.0          0.10960   \n",
       "3        11.42         20.38           77.58      386.1          0.14250   \n",
       "4        20.29         14.34          135.10     1297.0          0.10030   \n",
       "\n",
       "   mean compactness  mean concavity  mean concave points  mean symmetry  \\\n",
       "0           0.27760          0.3001              0.14710         0.2419   \n",
       "1           0.07864          0.0869              0.07017         0.1812   \n",
       "2           0.15990          0.1974              0.12790         0.2069   \n",
       "3           0.28390          0.2414              0.10520         0.2597   \n",
       "4           0.13280          0.1980              0.10430         0.1809   \n",
       "\n",
       "   mean fractal dimension           ...             worst radius  \\\n",
       "0                 0.07871           ...                    25.38   \n",
       "1                 0.05667           ...                    24.99   \n",
       "2                 0.05999           ...                    23.57   \n",
       "3                 0.09744           ...                    14.91   \n",
       "4                 0.05883           ...                    22.54   \n",
       "\n",
       "   worst texture  worst perimeter  worst area  worst smoothness  \\\n",
       "0          17.33           184.60      2019.0            0.1622   \n",
       "1          23.41           158.80      1956.0            0.1238   \n",
       "2          25.53           152.50      1709.0            0.1444   \n",
       "3          26.50            98.87       567.7            0.2098   \n",
       "4          16.67           152.20      1575.0            0.1374   \n",
       "\n",
       "   worst compactness  worst concavity  worst concave points  worst symmetry  \\\n",
       "0             0.6656           0.7119                0.2654          0.4601   \n",
       "1             0.1866           0.2416                0.1860          0.2750   \n",
       "2             0.4245           0.4504                0.2430          0.3613   \n",
       "3             0.8663           0.6869                0.2575          0.6638   \n",
       "4             0.2050           0.4000                0.1625          0.2364   \n",
       "\n",
       "   worst fractal dimension  \n",
       "0                  0.11890  \n",
       "1                  0.08902  \n",
       "2                  0.08758  \n",
       "3                  0.17300  \n",
       "4                  0.07678  \n",
       "\n",
       "[5 rows x 30 columns]"
      ]
     },
     "execution_count": 24,
     "metadata": {},
     "output_type": "execute_result"
    }
   ],
   "source": [
    "cancer_df.columns = cancer.feature_names\n",
    "cancer_df.head()"
   ]
  },
  {
   "cell_type": "code",
   "execution_count": 25,
   "metadata": {},
   "outputs": [],
   "source": [
    "# Fit model\n",
    "cancer_X_train, cancer_X_test, cancer_y_train, cancer_y_test = train_test_split(cancer_df, cancer_target, test_size = 0.2, random_state = 1)\n",
    "\n",
    "clf1 = LogisticRegression(random_state=1, solver='lbfgs',max_iter=3000) # initilize object \n",
    "cancer_clf1 = clf1.fit(cancer_X_train,cancer_y_train) # fit model.\n",
    "cancer_pred_label = clf1.predict(cancer_X_test) # predict label\n",
    "cancer_pred_prob = clf1.predict_proba(cancer_X_test) # predict probability \n"
   ]
  },
  {
   "cell_type": "code",
   "execution_count": 26,
   "metadata": {
    "scrolled": true
   },
   "outputs": [
    {
     "data": {
      "text/plain": [
       "array([[37,  5],\n",
       "       [ 1, 71]])"
      ]
     },
     "execution_count": 26,
     "metadata": {},
     "output_type": "execute_result"
    }
   ],
   "source": [
    "# evaluation, NOTE: need to swap \n",
    "confusion_matrix(cancer_y_test,cancer_pred_label)"
   ]
  },
  {
   "cell_type": "code",
   "execution_count": 27,
   "metadata": {},
   "outputs": [
    {
     "name": "stdout",
     "output_type": "stream",
     "text": [
      "Accuracy score: 0.947\n",
      "Recall score: 0.986\n",
      "F1-score: 0.959\n"
     ]
    }
   ],
   "source": [
    "print('Accuracy score: %0.3f' % accuracy_score(cancer_y_test,cancer_pred_label))\n",
    "print('Recall score: %0.3f' % recall_score(cancer_y_test,cancer_pred_label)) # = 71/72\n",
    "print('F1-score: %0.3f' % f1_score(cancer_y_test,cancer_pred_label)) # weighted average of precision and recall"
   ]
  },
  {
   "cell_type": "code",
   "execution_count": 28,
   "metadata": {
    "scrolled": false
   },
   "outputs": [
    {
     "name": "stdout",
     "output_type": "stream",
     "text": [
      "              precision    recall  f1-score   support\n",
      "\n",
      "           0       0.97      0.88      0.93        42\n",
      "           1       0.93      0.99      0.96        72\n",
      "\n",
      "   micro avg       0.95      0.95      0.95       114\n",
      "   macro avg       0.95      0.93      0.94       114\n",
      "weighted avg       0.95      0.95      0.95       114\n",
      "\n"
     ]
    }
   ],
   "source": [
    "print(classification_report(cancer_y_test,cancer_pred_label))"
   ]
  },
  {
   "cell_type": "code",
   "execution_count": 29,
   "metadata": {
    "scrolled": false
   },
   "outputs": [
    {
     "name": "stdout",
     "output_type": "stream",
     "text": [
      "AUC: 0.985\n"
     ]
    },
    {
     "data": {
      "image/png": "[encoded data removed]",
      "text/plain": [
       "<Figure size 576x432 with 1 Axes>"
      ]
     },
     "metadata": {
      "needs_background": "light"
     },
     "output_type": "display_data"
    }
   ],
   "source": [
    "#### Plot ROC curve for Malignant\n",
    "# calculate roc curve\n",
    "fpr, tpr, thresholds = roc_curve(cancer_y_test,cancer_pred_prob[:,1])\n",
    "\n",
    "# calculate AUC\n",
    "auc = roc_auc_score(cancer_y_test,cancer_pred_prob[:,1])\n",
    "print('AUC: %.3f' % auc)\n",
    "\n",
    "fig, ax = plt.subplots(figsize = [8,6])\n",
    "plt.plot([0, 1], [0, 1], linestyle='--')\n",
    "# plot the roc curve for the model\n",
    "plt.plot(fpr, tpr, marker = '.', color ='red',label='ROC curve (area = %0.2f)'% auc)\n",
    "plt.xlabel('False Positive Rate')\n",
    "plt.ylabel('True Positive Rate')\n",
    "plt.title('ROC')\n",
    "plt.legend(loc=\"lower right\")\n",
    "plt.show()"
   ]
  },
  {
   "cell_type": "code",
   "execution_count": 30,
   "metadata": {},
   "outputs": [
    {
     "name": "stdout",
     "output_type": "stream",
     "text": [
      "Requirement already satisfied: imblearn in /Users/rexitim/anaconda3/lib/python3.7/site-packages (0.0)\n",
      "Requirement already satisfied: imbalanced-learn in /Users/rexitim/anaconda3/lib/python3.7/site-packages (from imblearn) (0.4.3)\n",
      "Requirement already satisfied: scikit-learn>=0.20 in /Users/rexitim/anaconda3/lib/python3.7/site-packages (from imbalanced-learn->imblearn) (0.20.1)\n",
      "Requirement already satisfied: scipy>=0.13.3 in /Users/rexitim/anaconda3/lib/python3.7/site-packages (from imbalanced-learn->imblearn) (1.1.0)\n",
      "Requirement already satisfied: numpy>=1.8.2 in /Users/rexitim/anaconda3/lib/python3.7/site-packages (from imbalanced-learn->imblearn) (1.15.4)\n"
     ]
    }
   ],
   "source": [
    "# Second model with SMOTE \n",
    "! pip install imblearn"
   ]
  },
  {
   "cell_type": "code",
   "execution_count": 31,
   "metadata": {},
   "outputs": [],
   "source": [
    "from imblearn.over_sampling import SMOTE"
   ]
  },
  {
   "cell_type": "code",
   "execution_count": 32,
   "metadata": {
    "scrolled": true
   },
   "outputs": [
    {
     "data": {
      "text/plain": [
       "1    285\n",
       "0    170\n",
       "Name: 0, dtype: int64"
      ]
     },
     "execution_count": 32,
     "metadata": {},
     "output_type": "execute_result"
    }
   ],
   "source": [
    "# Check training label \n",
    "pd.DataFrame(cancer_y_train)[0].value_counts()"
   ]
  },
  {
   "cell_type": "code",
   "execution_count": 33,
   "metadata": {},
   "outputs": [
    {
     "data": {
      "text/plain": [
       "array([285, 285])"
      ]
     },
     "execution_count": 33,
     "metadata": {},
     "output_type": "execute_result"
    }
   ],
   "source": [
    "# apply SMOTE\n",
    "smt = SMOTE()\n",
    "smt_cancer_X_train,smt_cancer_y_train = smt.fit_sample(cancer_X_train,cancer_y_train)\n",
    "np.bincount(smt_cancer_y_train)"
   ]
  },
  {
   "cell_type": "code",
   "execution_count": 34,
   "metadata": {},
   "outputs": [],
   "source": [
    "# fit model\n",
    "clf2 = LogisticRegression(random_state=1, solver='lbfgs',max_iter=3000) # initilize object \n",
    "cancer_clf2 = clf2.fit(smt_cancer_X_train,smt_cancer_y_train) # fit model.\n",
    "cancer_pred_label2 = clf2.predict(cancer_X_test) # predict label\n",
    "cancer_pred_prob2 = clf2.predict_proba(cancer_X_test) # predict probability \n"
   ]
  },
  {
   "cell_type": "code",
   "execution_count": 35,
   "metadata": {
    "scrolled": true
   },
   "outputs": [
    {
     "name": "stdout",
     "output_type": "stream",
     "text": [
      "              precision    recall  f1-score   support\n",
      "\n",
      "           0       0.97      0.88      0.93        42\n",
      "           1       0.93      0.99      0.96        72\n",
      "\n",
      "   micro avg       0.95      0.95      0.95       114\n",
      "   macro avg       0.95      0.93      0.94       114\n",
      "weighted avg       0.95      0.95      0.95       114\n",
      "\n"
     ]
    }
   ],
   "source": [
    "print(classification_report(cancer_y_test,cancer_pred_label2))"
   ]
  },
  {
   "cell_type": "code",
   "execution_count": 36,
   "metadata": {
    "scrolled": false
   },
   "outputs": [
    {
     "name": "stdout",
     "output_type": "stream",
     "text": [
      "AUC1: 0.984788\n",
      "AUC2: 0.986442\n"
     ]
    },
    {
     "data": {
      "image/png": "[encoded data removed]",
      "text/plain": [
       "<Figure size 576x432 with 1 Axes>"
      ]
     },
     "metadata": {
      "needs_background": "light"
     },
     "output_type": "display_data"
    }
   ],
   "source": [
    "fpr2, tpr2, thresholds2 = roc_curve(cancer_y_test,cancer_pred_prob2[:,1])\n",
    "\n",
    "# calculate AUC\n",
    "auc2 = roc_auc_score(cancer_y_test,cancer_pred_prob2[:,1])\n",
    "print('AUC1: %.6f' % auc)\n",
    "print('AUC2: %.6f' % auc2)\n",
    "\n",
    "fig, ax = plt.subplots(1,1,figsize = [8,6])\n",
    "plt.plot([0, 1], [0, 1], linestyle='--')\n",
    "# plot the roc curve for the model\n",
    "plt.plot(fpr, tpr, marker = '.', color ='red',label='ROC curve (area = %0.2f)'% auc)\n",
    "plt.plot(fpr2, tpr2, marker = '.', color ='green',label='ROC curve (area = %0.2f)'% auc2)\n",
    "plt.xlabel('False Positive Rate')\n",
    "plt.ylabel('True Positive Rate')\n",
    "plt.title('ROC')\n",
    "plt.legend(loc=\"lower right\")\n",
    "plt.show()"
   ]
  },
  {
   "cell_type": "markdown",
   "metadata": {},
   "source": [
    "***\n",
    "<a id='trees'></a>\n",
    "### 2.2 Tree based models\n",
    "<font size='3'>\n",
    "\n",
    "* 1. [Decision Trees](#decision)\n",
    "* 2. [Random Forest](#rf)\n",
    "* 3. [Gradient Boosted Trees](#xgb)\n",
    "</font>"
   ]
  },
  {
   "cell_type": "markdown",
   "metadata": {},
   "source": [
    "***\n",
    "<a id='decision'></a>\n",
    "####  2.2.1 Decision trees<br>\n",
    "\n",
    "<font size='3'>\n",
    "\n",
    "* Decision trees are built using a heuristic called **recursive partitioning**. This approach is also commonly known as **divide and conquer** because it splits the data into subsets, which are then split repeatedly into even smaller subsets, and so on and so forth until the process stops when the algorithm determines the data within the subsets are sufficiently homogenous, or another stopping criterion has been met.\n",
    "* A non-parametric method\n",
    "* Can be used for both numerical prediction and classification problems\n",
    "* Good for interpretation, but prone to overfit as the depth of the tree increases\n",
    "\n",
    "</font>\n",
    "<img src='day2 data and image/dt.png' width='500'>\n",
    "\n",
    "\n",
    "<font size='3'>\n",
    "    \n",
    "* **How does it work?**\n",
    "    * 1. Root node represents the entire dataset\n",
    "    * 2. Chooses the feature most predictive of the target class to split upon each time\n",
    "        - Information Gain: measure difference between entropy before split and after split for a feature \n",
    "        - Gain Ratio: normalizing the information gain using Split Info\n",
    "        - [Gini Index](http://dni-institute.in/blogs/cart-decision-tree-gini-index-explained/): is a metric that measures the probability from a randomly chosen element (here an iris) to be incorrectly classified,used for classification problems, feature with small Gini index will be picked\n",
    "    * 3. Continues to devide and conquer the data, until a stopping criterion is reached:\n",
    "        - All (or nearly all) of the examples at the node have the same class\n",
    "        - No remaining features to distinguish among the examples\n",
    "        - The tree has grown to a predefined size limit \n",
    "\n",
    "1. [Decision Tree in Sklearn](https://scikit-learn.org/stable/modules/tree.html#classification)\n",
    "2. [Decision Tree Classification in Python Example](https://www.datacamp.com/community/tutorials/decision-tree-classification-python)\n",
    "</font>"
   ]
  },
  {
   "cell_type": "markdown",
   "metadata": {},
   "source": [
    "### Decision Tree Example - Iris data"
   ]
  },
  {
   "cell_type": "code",
   "execution_count": 37,
   "metadata": {},
   "outputs": [
    {
     "name": "stdout",
     "output_type": "stream",
     "text": [
      ".. _iris_dataset:\n",
      "\n",
      "Iris plants dataset\n",
      "--------------------\n",
      "\n",
      "**Data Set Characteristics:**\n",
      "\n",
      "    :Number of Instances: 150 (50 in each of three classes)\n",
      "    :Number of Attributes: 4 numeric, predictive attributes and the class\n",
      "    :Attribute Information:\n",
      "        - sepal length in cm\n",
      "        - sepal width in cm\n",
      "        - petal length in cm\n",
      "        - petal width in cm\n",
      "        - class:\n",
      "                - Iris-Setosa\n",
      "                - Iris-Versicolour\n",
      "                - Iris-Virginica\n",
      "                \n",
      "    :Summary Statistics:\n",
      "\n",
      "    ============== ==== ==== ======= ===== ====================\n",
      "                    Min  Max   Mean    SD   Class Correlation\n",
      "    ============== ==== ==== ======= ===== ====================\n",
      "    sepal length:   4.3  7.9   5.84   0.83    0.7826\n",
      "    sepal width:    2.0  4.4   3.05   0.43   -0.4194\n",
      "    petal length:   1.0  6.9   3.76   1.76    0.9490  (high!)\n",
      "    petal width:    0.1  2.5   1.20   0.76    0.9565  (high!)\n",
      "    ============== ==== ==== ======= ===== ====================\n",
      "\n",
      "    :Missing Attribute Values: None\n",
      "    :Class Distribution: 33.3% for each of 3 classes.\n",
      "    :Creator: R.A. Fisher\n",
      "    :Donor: Michael Marshall (MARSHALL%PLU@io.arc.nasa.gov)\n",
      "    :Date: July, 1988\n",
      "\n",
      "The famous Iris database, first used by Sir R.A. Fisher. The dataset is taken\n",
      "from Fisher's paper. Note that it's the same as in R, but not as in the UCI\n",
      "Machine Learning Repository, which has two wrong data points.\n",
      "\n",
      "This is perhaps the best known database to be found in the\n",
      "pattern recognition literature.  Fisher's paper is a classic in the field and\n",
      "is referenced frequently to this day.  (See Duda & Hart, for example.)  The\n",
      "data set contains 3 classes of 50 instances each, where each class refers to a\n",
      "type of iris plant.  One class is linearly separable from the other 2; the\n",
      "latter are NOT linearly separable from each other.\n",
      "\n",
      ".. topic:: References\n",
      "\n",
      "   - Fisher, R.A. \"The use of multiple measurements in taxonomic problems\"\n",
      "     Annual Eugenics, 7, Part II, 179-188 (1936); also in \"Contributions to\n",
      "     Mathematical Statistics\" (John Wiley, NY, 1950).\n",
      "   - Duda, R.O., & Hart, P.E. (1973) Pattern Classification and Scene Analysis.\n",
      "     (Q327.D83) John Wiley & Sons.  ISBN 0-471-22361-1.  See page 218.\n",
      "   - Dasarathy, B.V. (1980) \"Nosing Around the Neighborhood: A New System\n",
      "     Structure and Classification Rule for Recognition in Partially Exposed\n",
      "     Environments\".  IEEE Transactions on Pattern Analysis and Machine\n",
      "     Intelligence, Vol. PAMI-2, No. 1, 67-71.\n",
      "   - Gates, G.W. (1972) \"The Reduced Nearest Neighbor Rule\".  IEEE Transactions\n",
      "     on Information Theory, May 1972, 431-433.\n",
      "   - See also: 1988 MLC Proceedings, 54-64.  Cheeseman et al\"s AUTOCLASS II\n",
      "     conceptual clustering system finds 3 classes in the data.\n",
      "   - Many, many more ...\n"
     ]
    }
   ],
   "source": [
    "iris = datasets.load_iris()\n",
    "print(iris.DESCR)"
   ]
  },
  {
   "cell_type": "code",
   "execution_count": 38,
   "metadata": {},
   "outputs": [],
   "source": [
    "from sklearn import tree\n",
    "from sklearn.tree import DecisionTreeClassifier # import classifier module\n",
    "from sklearn.model_selection import train_test_split \n",
    "from sklearn import metrics"
   ]
  },
  {
   "cell_type": "code",
   "execution_count": 39,
   "metadata": {},
   "outputs": [
    {
     "data": {
      "text/html": [
       "<div>\n",
       "<style scoped>\n",
       "    .dataframe tbody tr th:only-of-type {\n",
       "        vertical-align: middle;\n",
       "    }\n",
       "\n",
       "    .dataframe tbody tr th {\n",
       "        vertical-align: top;\n",
       "    }\n",
       "\n",
       "    .dataframe thead th {\n",
       "        text-align: right;\n",
       "    }\n",
       "</style>\n",
       "<table border=\"1\" class=\"dataframe\">\n",
       "  <thead>\n",
       "    <tr style=\"text-align: right;\">\n",
       "      <th></th>\n",
       "      <th>sepal length (cm)</th>\n",
       "      <th>sepal width (cm)</th>\n",
       "      <th>petal length (cm)</th>\n",
       "      <th>petal width (cm)</th>\n",
       "    </tr>\n",
       "  </thead>\n",
       "  <tbody>\n",
       "    <tr>\n",
       "      <th>0</th>\n",
       "      <td>5.1</td>\n",
       "      <td>3.5</td>\n",
       "      <td>1.4</td>\n",
       "      <td>0.2</td>\n",
       "    </tr>\n",
       "    <tr>\n",
       "      <th>1</th>\n",
       "      <td>4.9</td>\n",
       "      <td>3.0</td>\n",
       "      <td>1.4</td>\n",
       "      <td>0.2</td>\n",
       "    </tr>\n",
       "    <tr>\n",
       "      <th>2</th>\n",
       "      <td>4.7</td>\n",
       "      <td>3.2</td>\n",
       "      <td>1.3</td>\n",
       "      <td>0.2</td>\n",
       "    </tr>\n",
       "    <tr>\n",
       "      <th>3</th>\n",
       "      <td>4.6</td>\n",
       "      <td>3.1</td>\n",
       "      <td>1.5</td>\n",
       "      <td>0.2</td>\n",
       "    </tr>\n",
       "    <tr>\n",
       "      <th>4</th>\n",
       "      <td>5.0</td>\n",
       "      <td>3.6</td>\n",
       "      <td>1.4</td>\n",
       "      <td>0.2</td>\n",
       "    </tr>\n",
       "  </tbody>\n",
       "</table>\n",
       "</div>"
      ],
      "text/plain": [
       "   sepal length (cm)  sepal width (cm)  petal length (cm)  petal width (cm)\n",
       "0                5.1               3.5                1.4               0.2\n",
       "1                4.9               3.0                1.4               0.2\n",
       "2                4.7               3.2                1.3               0.2\n",
       "3                4.6               3.1                1.5               0.2\n",
       "4                5.0               3.6                1.4               0.2"
      ]
     },
     "execution_count": 39,
     "metadata": {},
     "output_type": "execute_result"
    }
   ],
   "source": [
    "iris_df = pd.DataFrame(iris.data)\n",
    "iris_target = iris.target\n",
    "iris_df.columns = iris.feature_names\n",
    "iris_df.head()"
   ]
  },
  {
   "cell_type": "code",
   "execution_count": 40,
   "metadata": {},
   "outputs": [
    {
     "data": {
      "text/plain": [
       "array([0, 0, 0, 0, 0, 0, 0, 0, 0, 0, 0, 0, 0, 0, 0, 0, 0, 0, 0, 0, 0, 0,\n",
       "       0, 0, 0, 0, 0, 0, 0, 0, 0, 0, 0, 0, 0, 0, 0, 0, 0, 0, 0, 0, 0, 0,\n",
       "       0, 0, 0, 0, 0, 0, 1, 1, 1, 1, 1, 1, 1, 1, 1, 1, 1, 1, 1, 1, 1, 1,\n",
       "       1, 1, 1, 1, 1, 1, 1, 1, 1, 1, 1, 1, 1, 1, 1, 1, 1, 1, 1, 1, 1, 1,\n",
       "       1, 1, 1, 1, 1, 1, 1, 1, 1, 1, 1, 1, 2, 2, 2, 2, 2, 2, 2, 2, 2, 2,\n",
       "       2, 2, 2, 2, 2, 2, 2, 2, 2, 2, 2, 2, 2, 2, 2, 2, 2, 2, 2, 2, 2, 2,\n",
       "       2, 2, 2, 2, 2, 2, 2, 2, 2, 2, 2, 2, 2, 2, 2, 2, 2, 2])"
      ]
     },
     "execution_count": 40,
     "metadata": {},
     "output_type": "execute_result"
    }
   ],
   "source": [
    "iris_target"
   ]
  },
  {
   "cell_type": "code",
   "execution_count": 41,
   "metadata": {},
   "outputs": [],
   "source": [
    "iris_X_train,iris_X_test,iris_y_train,iris_y_test = train_test_split(iris_df,iris_target,test_size = 0.2, random_state = 1)\n"
   ]
  },
  {
   "cell_type": "code",
   "execution_count": 42,
   "metadata": {},
   "outputs": [],
   "source": [
    "iris_clf = DecisionTreeClassifier(random_state=1) # initialize \n",
    "iris_clf = iris_clf.fit(iris_X_train,iris_y_train) # fit \n",
    "iris_pred = iris_clf.predict(iris_X_test) # predict "
   ]
  },
  {
   "cell_type": "code",
   "execution_count": 43,
   "metadata": {},
   "outputs": [
    {
     "name": "stdout",
     "output_type": "stream",
     "text": [
      "Acciracy: 0.966667\n"
     ]
    }
   ],
   "source": [
    "print('Acciracy: %0.6f' % metrics.accuracy_score(iris_y_test,iris_pred))"
   ]
  },
  {
   "cell_type": "code",
   "execution_count": 44,
   "metadata": {},
   "outputs": [
    {
     "name": "stdout",
     "output_type": "stream",
     "text": [
      "Requirement already satisfied: pandas_ml in /Users/rexitim/anaconda3/lib/python3.7/site-packages (0.6.1)\n",
      "Requirement already satisfied: enum34 in /Users/rexitim/anaconda3/lib/python3.7/site-packages (from pandas_ml) (1.1.6)\n",
      "Requirement already satisfied: pandas>=0.19.0 in /Users/rexitim/anaconda3/lib/python3.7/site-packages (from pandas_ml) (0.23.4)\n",
      "Requirement already satisfied: python-dateutil>=2.5.0 in /Users/rexitim/anaconda3/lib/python3.7/site-packages (from pandas>=0.19.0->pandas_ml) (2.7.5)\n",
      "Requirement already satisfied: pytz>=2011k in /Users/rexitim/anaconda3/lib/python3.7/site-packages (from pandas>=0.19.0->pandas_ml) (2018.7)\n",
      "Requirement already satisfied: numpy>=1.9.0 in /Users/rexitim/anaconda3/lib/python3.7/site-packages (from pandas>=0.19.0->pandas_ml) (1.15.4)\n",
      "Requirement already satisfied: six>=1.5 in /Users/rexitim/anaconda3/lib/python3.7/site-packages (from python-dateutil>=2.5.0->pandas>=0.19.0->pandas_ml) (1.12.0)\n"
     ]
    }
   ],
   "source": [
    "! pip install pandas_ml"
   ]
  },
  {
   "cell_type": "code",
   "execution_count": 45,
   "metadata": {},
   "outputs": [],
   "source": [
    "from pandas_ml import ConfusionMatrix"
   ]
  },
  {
   "cell_type": "code",
   "execution_count": 46,
   "metadata": {},
   "outputs": [
    {
     "name": "stdout",
     "output_type": "stream",
     "text": [
      "Confusion Matrix: \n",
      " Predicted   0   1  2  __all__\n",
      "Actual                       \n",
      "0          11   0  0       11\n",
      "1           0  12  1       13\n",
      "2           0   0  6        6\n",
      "__all__    11  12  7       30\n"
     ]
    }
   ],
   "source": [
    "print('Confusion Matrix:','\\n', ConfusionMatrix(iris_y_test,iris_pred))"
   ]
  },
  {
   "cell_type": "code",
   "execution_count": 47,
   "metadata": {},
   "outputs": [
    {
     "data": {
      "text/plain": [
       "<matplotlib.axes._subplots.AxesSubplot at 0x1a1c727320>"
      ]
     },
     "execution_count": 47,
     "metadata": {},
     "output_type": "execute_result"
    },
    {
     "data": {
      "image/png": "[encoded data removed]",
      "text/plain": [
       "<Figure size 648x576 with 2 Axes>"
      ]
     },
     "metadata": {
      "needs_background": "light"
     },
     "output_type": "display_data"
    }
   ],
   "source": [
    "ConfusionMatrix(iris_y_test,iris_pred).plot()"
   ]
  },
  {
   "cell_type": "code",
   "execution_count": 48,
   "metadata": {},
   "outputs": [
    {
     "name": "stdout",
     "output_type": "stream",
     "text": [
      "              precision    recall  f1-score   support\n",
      "\n",
      "           0       1.00      1.00      1.00        11\n",
      "           1       1.00      0.92      0.96        13\n",
      "           2       0.86      1.00      0.92         6\n",
      "\n",
      "   micro avg       0.97      0.97      0.97        30\n",
      "   macro avg       0.95      0.97      0.96        30\n",
      "weighted avg       0.97      0.97      0.97        30\n",
      "\n"
     ]
    }
   ],
   "source": [
    "print(classification_report(iris_y_test,iris_pred))"
   ]
  },
  {
   "cell_type": "code",
   "execution_count": 49,
   "metadata": {},
   "outputs": [],
   "source": [
    "# output a pdf image \n",
    "# conda install python-graphviz\n",
    "# import graphviz\n",
    "# iris_dot = tree.export_graphviz(iris_clf,out_file=None)\n",
    "# iris_graph = graphviz.Source(iris_dot) \n",
    "# iris_graph.render('iris')"
   ]
  },
  {
   "cell_type": "code",
   "execution_count": 50,
   "metadata": {},
   "outputs": [
    {
     "name": "stdout",
     "output_type": "stream",
     "text": [
      "Requirement already satisfied: pydotplus in /Users/rexitim/anaconda3/lib/python3.7/site-packages (2.0.2)\n",
      "Requirement already satisfied: pyparsing>=2.0.1 in /Users/rexitim/anaconda3/lib/python3.7/site-packages (from pydotplus) (2.3.0)\n"
     ]
    }
   ],
   "source": [
    "! pip install pydotplus"
   ]
  },
  {
   "cell_type": "code",
   "execution_count": 51,
   "metadata": {},
   "outputs": [
    {
     "data": {
      "image/png": "[encoded data removed]",
      "text/plain": [
       "<IPython.core.display.Image object>"
      ]
     },
     "execution_count": 51,
     "metadata": {},
     "output_type": "execute_result"
    }
   ],
   "source": [
    "from sklearn.externals.six import StringIO # read and write strings as files\n",
    "from IPython.display import Image \n",
    "import pydotplus # provides a Python Interface to Graphviz’s Dot language\n",
    "iris_dot = StringIO()\n",
    "tree.export_graphviz(iris_clf,out_file=iris_dot,\n",
    "                                feature_names=iris.feature_names,\n",
    "                                class_names=iris.target_names,\n",
    "                                filled=True,rounded=True,\n",
    "                                special_characters=True)\n",
    "iris_graph = pydotplus.graph_from_dot_data(iris_dot.getvalue())\n",
    "# iris_graph.write('iris2.png')\n",
    "Image(iris_graph.create_png())"
   ]
  },
  {
   "cell_type": "markdown",
   "metadata": {},
   "source": [
    "* In the root node, the algorithm has found that among all the possible splits the split with petal width = 0.8 cm gives the lowest Gini impurity.\n",
    "* In the root node, if petal width (cm) <= 0.8 is TRUE, then Setosa"
   ]
  },
  {
   "cell_type": "markdown",
   "metadata": {},
   "source": [
    "***\n",
    "<a id='rf'></a>\n",
    "####  2.2.2 Random Forest<br>\n",
    "<font size='3'>\n",
    "\n",
    "* Random forest is a set of parallel decision trees\n",
    "* Prevent overfitting by bagging (boostrap aggregation):\n",
    "    - Learn many classifiers, each with a subset of data\n",
    "    - Combine through model averaging\n",
    "    \n",
    "* Strengths: \n",
    "    - All-purpose model that performs well on most problems\n",
    "    - Can handle noisy or missing data as well as categorical or continuous features\n",
    "    - Select only the most important features \n",
    "    - Can be used on large data\n",
    "    - Provide [feature importance](https://medium.com/@srnghn/the-mathematics-of-decision-trees-random-forest-and-feature-importance-in-scikit-learn-and-spark-f2861df67e3): is calculated as the decrease in node impurity weighted by the probability of reaching that node. The node probability can be calculated by the number of samples that reach the node, divided by the total number of samples. The higher the value the more important the feature.\n",
    "* Weaknesses:\n",
    "    - Some work to tune the model to the data \n",
    "</font>\n",
    "<img src='day2 data and image/rf.jpg' width='600'>\n",
    "\n",
    "[Random Forest Classifier - Sklearn](https://scikitlearn.org/stable/modules/generated/sklearn.ensemble.RandomForestClassifier.html)<br>\n",
    "[Random Forest Regressor - Sklearn](https://scikit-learn.org/stable/modules/generated/sklearn.ensemble.RandomForestRegressor.html)"
   ]
  },
  {
   "cell_type": "markdown",
   "metadata": {},
   "source": [
    "### Random Forest Rregression Example - Boston Housing Price"
   ]
  },
  {
   "cell_type": "code",
   "execution_count": 52,
   "metadata": {
    "scrolled": false
   },
   "outputs": [
    {
     "name": "stdout",
     "output_type": "stream",
     "text": [
      ".. _boston_dataset:\n",
      "\n",
      "Boston house prices dataset\n",
      "---------------------------\n",
      "\n",
      "**Data Set Characteristics:**  \n",
      "\n",
      "    :Number of Instances: 506 \n",
      "\n",
      "    :Number of Attributes: 13 numeric/categorical predictive. Median Value (attribute 14) is usually the target.\n",
      "\n",
      "    :Attribute Information (in order):\n",
      "        - CRIM     per capita crime rate by town\n",
      "        - ZN       proportion of residential land zoned for lots over 25,000 sq.ft.\n",
      "        - INDUS    proportion of non-retail business acres per town\n",
      "        - CHAS     Charles River dummy variable (= 1 if tract bounds river; 0 otherwise)\n",
      "        - NOX      nitric oxides concentration (parts per 10 million)\n",
      "        - RM       average number of rooms per dwelling\n",
      "        - AGE      proportion of owner-occupied units built prior to 1940\n",
      "        - DIS      weighted distances to five Boston employment centres\n",
      "        - RAD      index of accessibility to radial highways\n",
      "        - TAX      full-value property-tax rate per $10,000\n",
      "        - PTRATIO  pupil-teacher ratio by town\n",
      "        - B        1000(Bk - 0.63)^2 where Bk is the proportion of blacks by town\n",
      "        - LSTAT    % lower status of the population\n",
      "        - MEDV     Median value of owner-occupied homes in $1000's\n",
      "\n",
      "    :Missing Attribute Values: None\n",
      "\n",
      "    :Creator: Harrison, D. and Rubinfeld, D.L.\n",
      "\n",
      "This is a copy of UCI ML housing dataset.\n",
      "https://archive.ics.uci.edu/ml/machine-learning-databases/housing/\n",
      "\n",
      "\n",
      "This dataset was taken from the StatLib library which is maintained at Carnegie Mellon University.\n",
      "\n",
      "The Boston house-price data of Harrison, D. and Rubinfeld, D.L. 'Hedonic\n",
      "prices and the demand for clean air', J. Environ. Economics & Management,\n",
      "vol.5, 81-102, 1978.   Used in Belsley, Kuh & Welsch, 'Regression diagnostics\n",
      "...', Wiley, 1980.   N.B. Various transformations are used in the table on\n",
      "pages 244-261 of the latter.\n",
      "\n",
      "The Boston house-price data has been used in many machine learning papers that address regression\n",
      "problems.   \n",
      "     \n",
      ".. topic:: References\n",
      "\n",
      "   - Belsley, Kuh & Welsch, 'Regression diagnostics: Identifying Influential Data and Sources of Collinearity', Wiley, 1980. 244-261.\n",
      "   - Quinlan,R. (1993). Combining Instance-Based and Model-Based Learning. In Proceedings on the Tenth International Conference of Machine Learning, 236-243, University of Massachusetts, Amherst. Morgan Kaufmann.\n",
      "\n"
     ]
    }
   ],
   "source": [
    "boston = datasets.load_boston()\n",
    "print(boston.DESCR)"
   ]
  },
  {
   "cell_type": "code",
   "execution_count": 53,
   "metadata": {},
   "outputs": [],
   "source": [
    "from sklearn.ensemble import RandomForestRegressor\n",
    "from sklearn.model_selection import train_test_split\n",
    "from sklearn.metrics import r2_score, mean_squared_error"
   ]
  },
  {
   "cell_type": "code",
   "execution_count": 54,
   "metadata": {},
   "outputs": [
    {
     "data": {
      "text/html": [
       "<div>\n",
       "<style scoped>\n",
       "    .dataframe tbody tr th:only-of-type {\n",
       "        vertical-align: middle;\n",
       "    }\n",
       "\n",
       "    .dataframe tbody tr th {\n",
       "        vertical-align: top;\n",
       "    }\n",
       "\n",
       "    .dataframe thead th {\n",
       "        text-align: right;\n",
       "    }\n",
       "</style>\n",
       "<table border=\"1\" class=\"dataframe\">\n",
       "  <thead>\n",
       "    <tr style=\"text-align: right;\">\n",
       "      <th></th>\n",
       "      <th>CRIM</th>\n",
       "      <th>ZN</th>\n",
       "      <th>INDUS</th>\n",
       "      <th>CHAS</th>\n",
       "      <th>NOX</th>\n",
       "      <th>RM</th>\n",
       "      <th>AGE</th>\n",
       "      <th>DIS</th>\n",
       "      <th>RAD</th>\n",
       "      <th>TAX</th>\n",
       "      <th>PTRATIO</th>\n",
       "      <th>B</th>\n",
       "      <th>LSTAT</th>\n",
       "    </tr>\n",
       "  </thead>\n",
       "  <tbody>\n",
       "    <tr>\n",
       "      <th>0</th>\n",
       "      <td>0.00632</td>\n",
       "      <td>18.0</td>\n",
       "      <td>2.31</td>\n",
       "      <td>0.0</td>\n",
       "      <td>0.538</td>\n",
       "      <td>6.575</td>\n",
       "      <td>65.2</td>\n",
       "      <td>4.0900</td>\n",
       "      <td>1.0</td>\n",
       "      <td>296.0</td>\n",
       "      <td>15.3</td>\n",
       "      <td>396.90</td>\n",
       "      <td>4.98</td>\n",
       "    </tr>\n",
       "    <tr>\n",
       "      <th>1</th>\n",
       "      <td>0.02731</td>\n",
       "      <td>0.0</td>\n",
       "      <td>7.07</td>\n",
       "      <td>0.0</td>\n",
       "      <td>0.469</td>\n",
       "      <td>6.421</td>\n",
       "      <td>78.9</td>\n",
       "      <td>4.9671</td>\n",
       "      <td>2.0</td>\n",
       "      <td>242.0</td>\n",
       "      <td>17.8</td>\n",
       "      <td>396.90</td>\n",
       "      <td>9.14</td>\n",
       "    </tr>\n",
       "    <tr>\n",
       "      <th>2</th>\n",
       "      <td>0.02729</td>\n",
       "      <td>0.0</td>\n",
       "      <td>7.07</td>\n",
       "      <td>0.0</td>\n",
       "      <td>0.469</td>\n",
       "      <td>7.185</td>\n",
       "      <td>61.1</td>\n",
       "      <td>4.9671</td>\n",
       "      <td>2.0</td>\n",
       "      <td>242.0</td>\n",
       "      <td>17.8</td>\n",
       "      <td>392.83</td>\n",
       "      <td>4.03</td>\n",
       "    </tr>\n",
       "    <tr>\n",
       "      <th>3</th>\n",
       "      <td>0.03237</td>\n",
       "      <td>0.0</td>\n",
       "      <td>2.18</td>\n",
       "      <td>0.0</td>\n",
       "      <td>0.458</td>\n",
       "      <td>6.998</td>\n",
       "      <td>45.8</td>\n",
       "      <td>6.0622</td>\n",
       "      <td>3.0</td>\n",
       "      <td>222.0</td>\n",
       "      <td>18.7</td>\n",
       "      <td>394.63</td>\n",
       "      <td>2.94</td>\n",
       "    </tr>\n",
       "    <tr>\n",
       "      <th>4</th>\n",
       "      <td>0.06905</td>\n",
       "      <td>0.0</td>\n",
       "      <td>2.18</td>\n",
       "      <td>0.0</td>\n",
       "      <td>0.458</td>\n",
       "      <td>7.147</td>\n",
       "      <td>54.2</td>\n",
       "      <td>6.0622</td>\n",
       "      <td>3.0</td>\n",
       "      <td>222.0</td>\n",
       "      <td>18.7</td>\n",
       "      <td>396.90</td>\n",
       "      <td>5.33</td>\n",
       "    </tr>\n",
       "  </tbody>\n",
       "</table>\n",
       "</div>"
      ],
      "text/plain": [
       "      CRIM    ZN  INDUS  CHAS    NOX     RM   AGE     DIS  RAD    TAX  \\\n",
       "0  0.00632  18.0   2.31   0.0  0.538  6.575  65.2  4.0900  1.0  296.0   \n",
       "1  0.02731   0.0   7.07   0.0  0.469  6.421  78.9  4.9671  2.0  242.0   \n",
       "2  0.02729   0.0   7.07   0.0  0.469  7.185  61.1  4.9671  2.0  242.0   \n",
       "3  0.03237   0.0   2.18   0.0  0.458  6.998  45.8  6.0622  3.0  222.0   \n",
       "4  0.06905   0.0   2.18   0.0  0.458  7.147  54.2  6.0622  3.0  222.0   \n",
       "\n",
       "   PTRATIO       B  LSTAT  \n",
       "0     15.3  396.90   4.98  \n",
       "1     17.8  396.90   9.14  \n",
       "2     17.8  392.83   4.03  \n",
       "3     18.7  394.63   2.94  \n",
       "4     18.7  396.90   5.33  "
      ]
     },
     "execution_count": 54,
     "metadata": {},
     "output_type": "execute_result"
    }
   ],
   "source": [
    "boston_df = pd.DataFrame(boston.data, columns = boston.feature_names)\n",
    "boston_target = boston.target\n",
    "boston_df.head()"
   ]
  },
  {
   "cell_type": "code",
   "execution_count": 55,
   "metadata": {},
   "outputs": [],
   "source": [
    "boston_X_train, boston_X_test, boston_y_train, boston_y_test = train_test_split(boston_df, boston_target, \\\n",
    "                                                                                test_size = 0.2, random_state=1)\n"
   ]
  },
  {
   "cell_type": "code",
   "execution_count": 56,
   "metadata": {},
   "outputs": [],
   "source": [
    "rf_reg = RandomForestRegressor(n_estimators=50,random_state=1,max_depth=10) # initialize \n",
    "boston_rf = rf_reg.fit(boston_X_train,boston_y_train) # fit \n",
    "boston_train_pred = boston_rf.predict(boston_X_train)\n",
    "boston_test_pred = boston_rf.predict(boston_X_test) # predict \n"
   ]
  },
  {
   "cell_type": "code",
   "execution_count": 57,
   "metadata": {},
   "outputs": [
    {
     "data": {
      "text/plain": [
       "RandomForestRegressor(bootstrap=True, criterion='mse', max_depth=10,\n",
       "           max_features='auto', max_leaf_nodes=None,\n",
       "           min_impurity_decrease=0.0, min_impurity_split=None,\n",
       "           min_samples_leaf=1, min_samples_split=2,\n",
       "           min_weight_fraction_leaf=0.0, n_estimators=50, n_jobs=None,\n",
       "           oob_score=False, random_state=1, verbose=0, warm_start=False)"
      ]
     },
     "execution_count": 57,
     "metadata": {},
     "output_type": "execute_result"
    }
   ],
   "source": [
    "rf_reg"
   ]
  },
  {
   "cell_type": "code",
   "execution_count": 58,
   "metadata": {
    "scrolled": false
   },
   "outputs": [
    {
     "name": "stdout",
     "output_type": "stream",
     "text": [
      "MSE on train: 1.496, test: 8.379\n",
      "R2-square on train: 0.981, test: 0.915\n"
     ]
    }
   ],
   "source": [
    "r2_train,r2_test = r2_score(boston_y_train, boston_train_pred),r2_score(boston_y_test, boston_test_pred)\n",
    "mse_train, mse_test = mean_squared_error(boston_y_train, boston_train_pred),mean_squared_error(boston_y_test, boston_test_pred)\n",
    "\n",
    "print('MSE on train: %0.3f, test: %0.3f' % (mse_train,mse_test))\n",
    "print('R2-square on train: %0.3f, test: %0.3f' % (r2_train,r2_test))\n"
   ]
  },
  {
   "cell_type": "markdown",
   "metadata": {},
   "source": [
    "* Our model is little bit over fitting since we observe higher error on test data than for training data, but the model still have a good R2 square for unknown data (0.912).\n",
    "* To avoid over-fitting in random forest, the main thing you need to do is optimize a tuning parameter that governs the number of features that are randomly chosen to grow each tree from the bootstrapped data.Typically, you do this via 𝑘-fold cross-validation, where 𝑘∈{5,10}, and choose the tuning parameter that minimizes test sample prediction error.\n",
    "* In addition, growing a larger forest will improve predictive accuracy, although there are usually diminishing returns once you get up to several hundreds of trees"
   ]
  },
  {
   "cell_type": "code",
   "execution_count": 59,
   "metadata": {
    "scrolled": true
   },
   "outputs": [
    {
     "data": {
      "text/plain": [
       "[('CRIM', 0.03894315637375459),\n",
       " ('ZN', 0.0009495097737589508),\n",
       " ('INDUS', 0.006508656245440881),\n",
       " ('CHAS', 0.0006206729347351866),\n",
       " ('NOX', 0.02532372393709364),\n",
       " ('RM', 0.2881091070977787),\n",
       " ('AGE', 0.016437468575246462),\n",
       " ('DIS', 0.06642358958265869),\n",
       " ('RAD', 0.003796360649709578),\n",
       " ('TAX', 0.013296272722840376),\n",
       " ('PTRATIO', 0.01847185392062615),\n",
       " ('B', 0.01371191090008056),\n",
       " ('LSTAT', 0.5074077172862762)]"
      ]
     },
     "execution_count": 59,
     "metadata": {},
     "output_type": "execute_result"
    }
   ],
   "source": [
    "importance = rf_reg.feature_importances_\n",
    "list(zip(boston.feature_names,importance))"
   ]
  },
  {
   "cell_type": "code",
   "execution_count": 60,
   "metadata": {
    "scrolled": false
   },
   "outputs": [
    {
     "data": {
      "image/png": "[encoded data removed]",
      "text/plain": [
       "<Figure size 864x576 with 1 Axes>"
      ]
     },
     "metadata": {
      "needs_background": "light"
     },
     "output_type": "display_data"
    }
   ],
   "source": [
    "# Sort feature importances in descending order\n",
    "indices = np.argsort(importance)[::-1]\n",
    "\n",
    "# Rearrange feature names so they match the sorted feature importances\n",
    "names = [boston.feature_names[i] for i in indices]\n",
    "\n",
    "# Create plot\n",
    "fig,ax = plt.subplots(figsize = [12,8])\n",
    "\n",
    "# Create plot title\n",
    "plt.title(\"Feature Importance\")\n",
    "\n",
    "# Add bars\n",
    "plt.bar(range(boston_X_train.shape[1]), importance[indices])\n",
    "\n",
    "# Add feature names as x-axis labels\n",
    "plt.xticks(range(boston_X_train.shape[1]), names) # , rotation=90\n",
    "\n",
    "# Show plot\n",
    "plt.show()"
   ]
  },
  {
   "cell_type": "markdown",
   "metadata": {},
   "source": [
    "### Random Forest Classification Example - Iris data"
   ]
  },
  {
   "cell_type": "code",
   "execution_count": 61,
   "metadata": {},
   "outputs": [],
   "source": [
    "from sklearn.ensemble import RandomForestClassifier\n",
    "from sklearn import metrics"
   ]
  },
  {
   "cell_type": "code",
   "execution_count": 62,
   "metadata": {
    "scrolled": true
   },
   "outputs": [
    {
     "name": "stdout",
     "output_type": "stream",
     "text": [
      "Confusion Matrix: \n",
      " Predicted   0   1  2  __all__\n",
      "Actual                       \n",
      "0          11   0  0       11\n",
      "1           0  12  1       13\n",
      "2           0   0  6        6\n",
      "__all__    11  12  7       30\n"
     ]
    }
   ],
   "source": [
    "rf_clf = RandomForestClassifier(n_estimators=500,max_depth=5,random_state=1)\n",
    "iris_rf = rf_clf.fit(iris_X_train,iris_y_train)\n",
    "iris_rf_pred = iris_rf.predict(iris_X_test)\n",
    "print('Confusion Matrix:','\\n', ConfusionMatrix(iris_y_test,iris_rf_pred))"
   ]
  },
  {
   "cell_type": "code",
   "execution_count": 63,
   "metadata": {},
   "outputs": [
    {
     "data": {
      "text/plain": [
       "0.9666666666666667"
      ]
     },
     "execution_count": 63,
     "metadata": {},
     "output_type": "execute_result"
    }
   ],
   "source": [
    "accuracy_score(iris_y_test,iris_rf_pred)"
   ]
  },
  {
   "cell_type": "code",
   "execution_count": 64,
   "metadata": {},
   "outputs": [
    {
     "name": "stdout",
     "output_type": "stream",
     "text": [
      "              precision    recall  f1-score   support\n",
      "\n",
      "           0       1.00      1.00      1.00        11\n",
      "           1       1.00      0.92      0.96        13\n",
      "           2       0.86      1.00      0.92         6\n",
      "\n",
      "   micro avg       0.97      0.97      0.97        30\n",
      "   macro avg       0.95      0.97      0.96        30\n",
      "weighted avg       0.97      0.97      0.97        30\n",
      "\n"
     ]
    }
   ],
   "source": [
    "print(classification_report(iris_y_test,iris_rf_pred))"
   ]
  },
  {
   "cell_type": "code",
   "execution_count": 65,
   "metadata": {
    "scrolled": true
   },
   "outputs": [
    {
     "data": {
      "text/plain": [
       "[('sepal length (cm)', 0.09347440361140277),\n",
       " ('sepal width (cm)', 0.025681958095061155),\n",
       " ('petal length (cm)', 0.4326989568097147),\n",
       " ('petal width (cm)', 0.44814468148382103)]"
      ]
     },
     "execution_count": 65,
     "metadata": {},
     "output_type": "execute_result"
    }
   ],
   "source": [
    "list(zip(iris.feature_names, rf_clf.feature_importances_))"
   ]
  },
  {
   "cell_type": "code",
   "execution_count": 66,
   "metadata": {},
   "outputs": [
    {
     "data": {
      "image/png": "[encoded data removed]",
      "text/plain": [
       "<Figure size 576x432 with 1 Axes>"
      ]
     },
     "metadata": {
      "needs_background": "light"
     },
     "output_type": "display_data"
    }
   ],
   "source": [
    "iris_indices = np.argsort(rf_clf.feature_importances_)[::-1]\n",
    "\n",
    "iris_names = [iris.feature_names[i] for i in iris_indices]\n",
    "\n",
    "\n",
    "fig,ax = plt.subplots(figsize = [8,6])\n",
    "plt.title(\"Feature Importance\")\n",
    "\n",
    "plt.bar(range(iris_X_train.shape[1]), rf_clf.feature_importances_[iris_indices])\n",
    "\n",
    "plt.xticks(range(iris_X_train.shape[1]), iris_names) # , rotation=90\n",
    "plt.show()"
   ]
  },
  {
   "cell_type": "markdown",
   "metadata": {},
   "source": [
    "***\n",
    "<a id='xgb'></a>\n",
    "####  2.2.3 Gradient Boosted Trees<br>\n",
    "<font size='3'>\n",
    "\n",
    "* **Gradient boosted trees (GBT)** is one of the most powerful techniques for building predictive models. GBT build trees one at a time, where each new tree helps to correct errors made by previously trained tree. \n",
    "    - The learning rate (shrinkage or eta) controls how hard each new tree tries to correct remaining mistakes from previous round.\n",
    "        - High learning rate: more complex trees\n",
    "        - Low learning rate: simple trees\n",
    "    - [Feature importance in Gradient Boosting](https://machinelearningmastery.com/feature-importance-and-feature-selection-with-xgboost-in-python/): generally, importance provides a score that indicates how useful or valuable each feature was in the construction of the boosted decision trees within the model. The more an attribute is used to make key decisions with decision trees, the higher its relative importance. \n",
    "    - Pros and Cons \n",
    "    \n",
    "**Pros**   |   **Cons**\n",
    ":---| :---\n",
    "Often best off-the-shelf accuracy on many problems | Like random forest, not intuitive for interpretation\n",
    "Using model for prediction requires only modest memory and is fast | Require careful tuning of the learning rate and other parameters\n",
    "Doesn't require careful normalization of features to perform well | Training can require significant computation\n",
    "Like decision trees, handles of mixture of feature types | Like decision trees,not recommended for problems with very high dimensional sparse features, for accuracy and computational cost reasons</font>\n",
    "\n",
    "[Intro to Gradient Boosting Algorithm for ML](https://machinelearningmastery.com/gentle-introduction-gradient-boosting-algorithm-machine-learning/)<br>\n",
    "[5-minutes video of GBT](https://www.coursera.org/lecture/python-machine-learning/gradient-boosted-decision-trees-emwn3)<br>\n",
    "[Underlying math of GBT](https://www.coursera.org/lecture/advanced-machine-learning-signal-processing/boosting-and-gradient-boosted-trees-8MEjw)<br>\n",
    "[GradientBoostingClassifier Sklearn documentation](https://scikit-learn.org/stable/modules/generated/sklearn.ensemble.GradientBoostingClassifier.html#sklearn.ensemble.GradientBoostingClassifier)<br>\n",
    "[GradientBoostingRegressor Sklearn documentation](https://scikit-learn.org/stable/modules/generated/sklearn.ensemble.GradientBoostingRegressor.html#sklearn.ensemble.GradientBoostingRegressor)<br>\n",
    "<font size='3'>\n",
    "***\n",
    "* **Extreme Gradient Boosting (XGBoost)** is a decision-tree-based ensemble Machine Learning algorithm that uses a gradient boosting framework.It's a perfect combination of software and hardware optimization techniques to yield superior results using less computing resources in the shortest amount of time.\n",
    "    - Pros:\n",
    "        - Execution speed: really fast when compare to other implementation of gradient boosting\n",
    "        - Accuracy: dominates structured datasets on classification and regression predictive modeling problems.It's the go-to algorithm for competition winners on the Kaggle competitive data science platform\n",
    "    - Cons: hard to interpret</font>\n",
    "\n",
    "[5-minutes video on Boosting](https://www.coursera.org/lecture/competitive-data-science/boosting-Ra7di)<br>\n",
    "[XGBoost algorithm](https://towardsdatascience.com/https-medium-com-vishalmorde-xgboost-algorithm-long-she-may-rein-edd9f99be63d)<br>\n",
    "[XGBoost Python API Reference](https://xgboost.readthedocs.io/en/latest/python/python_api.html)<br>\n",
    "[XGBoost parameters - Github](https://github.com/dmlc/xgboost/blob/master/doc/parameter.rst)<br>\n",
    "[XGBoost.importance](https://rdrr.io/cran/xgboost/man/xgb.importance.html)"
   ]
  },
  {
   "cell_type": "markdown",
   "metadata": {},
   "source": [
    "### XGBoost Example - Boston Housing Price"
   ]
  },
  {
   "cell_type": "code",
   "execution_count": 67,
   "metadata": {},
   "outputs": [],
   "source": [
    "boston = datasets.load_boston()\n",
    "boston_df = pd.DataFrame(boston.data, columns= boston.feature_names)\n",
    "boston_target = boston.target"
   ]
  },
  {
   "cell_type": "code",
   "execution_count": 68,
   "metadata": {},
   "outputs": [
    {
     "data": {
      "text/html": [
       "<div>\n",
       "<style scoped>\n",
       "    .dataframe tbody tr th:only-of-type {\n",
       "        vertical-align: middle;\n",
       "    }\n",
       "\n",
       "    .dataframe tbody tr th {\n",
       "        vertical-align: top;\n",
       "    }\n",
       "\n",
       "    .dataframe thead th {\n",
       "        text-align: right;\n",
       "    }\n",
       "</style>\n",
       "<table border=\"1\" class=\"dataframe\">\n",
       "  <thead>\n",
       "    <tr style=\"text-align: right;\">\n",
       "      <th></th>\n",
       "      <th>CRIM</th>\n",
       "      <th>ZN</th>\n",
       "      <th>INDUS</th>\n",
       "      <th>CHAS</th>\n",
       "      <th>NOX</th>\n",
       "      <th>RM</th>\n",
       "      <th>AGE</th>\n",
       "      <th>DIS</th>\n",
       "      <th>RAD</th>\n",
       "      <th>TAX</th>\n",
       "      <th>PTRATIO</th>\n",
       "      <th>B</th>\n",
       "      <th>LSTAT</th>\n",
       "    </tr>\n",
       "  </thead>\n",
       "  <tbody>\n",
       "    <tr>\n",
       "      <th>0</th>\n",
       "      <td>0.00632</td>\n",
       "      <td>18.0</td>\n",
       "      <td>2.31</td>\n",
       "      <td>0.0</td>\n",
       "      <td>0.538</td>\n",
       "      <td>6.575</td>\n",
       "      <td>65.2</td>\n",
       "      <td>4.0900</td>\n",
       "      <td>1.0</td>\n",
       "      <td>296.0</td>\n",
       "      <td>15.3</td>\n",
       "      <td>396.9</td>\n",
       "      <td>4.98</td>\n",
       "    </tr>\n",
       "    <tr>\n",
       "      <th>1</th>\n",
       "      <td>0.02731</td>\n",
       "      <td>0.0</td>\n",
       "      <td>7.07</td>\n",
       "      <td>0.0</td>\n",
       "      <td>0.469</td>\n",
       "      <td>6.421</td>\n",
       "      <td>78.9</td>\n",
       "      <td>4.9671</td>\n",
       "      <td>2.0</td>\n",
       "      <td>242.0</td>\n",
       "      <td>17.8</td>\n",
       "      <td>396.9</td>\n",
       "      <td>9.14</td>\n",
       "    </tr>\n",
       "  </tbody>\n",
       "</table>\n",
       "</div>"
      ],
      "text/plain": [
       "      CRIM    ZN  INDUS  CHAS    NOX     RM   AGE     DIS  RAD    TAX  \\\n",
       "0  0.00632  18.0   2.31   0.0  0.538  6.575  65.2  4.0900  1.0  296.0   \n",
       "1  0.02731   0.0   7.07   0.0  0.469  6.421  78.9  4.9671  2.0  242.0   \n",
       "\n",
       "   PTRATIO      B  LSTAT  \n",
       "0     15.3  396.9   4.98  \n",
       "1     17.8  396.9   9.14  "
      ]
     },
     "execution_count": 68,
     "metadata": {},
     "output_type": "execute_result"
    }
   ],
   "source": [
    "boston_df.head(2)"
   ]
  },
  {
   "cell_type": "code",
   "execution_count": 69,
   "metadata": {},
   "outputs": [
    {
     "name": "stdout",
     "output_type": "stream",
     "text": [
      "Requirement already satisfied: xgboost in /Users/rexitim/anaconda3/lib/python3.7/site-packages (0.82)\n",
      "Requirement already satisfied: numpy in /Users/rexitim/anaconda3/lib/python3.7/site-packages (from xgboost) (1.15.4)\n",
      "Requirement already satisfied: scipy in /Users/rexitim/anaconda3/lib/python3.7/site-packages (from xgboost) (1.1.0)\n"
     ]
    }
   ],
   "source": [
    "! pip install xgboost"
   ]
  },
  {
   "cell_type": "code",
   "execution_count": 70,
   "metadata": {},
   "outputs": [],
   "source": [
    "import xgboost as xgb\n",
    "from sklearn.model_selection import train_test_split\n",
    "from sklearn.metrics import mean_squared_error,r2_score"
   ]
  },
  {
   "cell_type": "code",
   "execution_count": 71,
   "metadata": {},
   "outputs": [],
   "source": [
    "boston_X_train, boston_X_test, boston_y_train, boston_y_test = train_test_split(boston_df,boston_target, \\\n",
    "                                                                                test_size = 0.2,random_state=1)"
   ]
  },
  {
   "cell_type": "code",
   "execution_count": 72,
   "metadata": {},
   "outputs": [],
   "source": [
    "# initialize model\n",
    "xgb_reg = xgb.XGBRegressor(objecgtive = 'reg:linear',\n",
    "                           max_depth= 5,\n",
    "                           colsample_bytree= 0.3, # number of features for each tree\n",
    "                           learning_rate = 0.1,\n",
    "                           alpha = 10,\n",
    "                           n_estimators = 20) # number of trees for each model\n",
    "                                   "
   ]
  },
  {
   "cell_type": "code",
   "execution_count": 73,
   "metadata": {},
   "outputs": [
    {
     "data": {
      "text/plain": [
       "array([26.042677, 24.6052  , 17.885344, 18.838455, 15.505324],\n",
       "      dtype=float32)"
      ]
     },
     "execution_count": 73,
     "metadata": {},
     "output_type": "execute_result"
    }
   ],
   "source": [
    "boston_xgb_reg = xgb_reg.fit(boston_X_train,boston_y_train) # fit \n",
    "boston_xgb_train_pred = boston_xgb_reg.predict(boston_X_train) # predict on training data\n",
    "boston_xgb_test_pred = boston_xgb_reg.predict(boston_X_test) # predict on test data\n",
    "boston_xgb_test_pred[0:5]"
   ]
  },
  {
   "cell_type": "code",
   "execution_count": 74,
   "metadata": {},
   "outputs": [
    {
     "name": "stdout",
     "output_type": "stream",
     "text": [
      "RMSE train:4.38312, RMSE test:5.75686\n",
      "R-squared train: 0.76218, R-squared test:0.66465\n"
     ]
    }
   ],
   "source": [
    "boston_xgb_train_rmse = np.sqrt(mean_squared_error(boston_y_train,boston_xgb_train_pred))\n",
    "boston_xgb_test_rmse = np.sqrt(mean_squared_error(boston_y_test,boston_xgb_test_pred))\n",
    "\n",
    "boston_xgb_train_r2 = r2_score(boston_y_train,boston_xgb_train_pred)\n",
    "boston_xgb_test_r2 = r2_score(boston_y_test,boston_xgb_test_pred)\n",
    "print('RMSE train:{0:0.5f}, RMSE test:{1:0.5f}'.format(boston_xgb_train_rmse,boston_xgb_test_rmse))\n",
    "print('R-squared train: {0:0.5f}, R-squared test:{1:0.5f}'.format(boston_xgb_train_r2,boston_xgb_test_r2))"
   ]
  },
  {
   "cell_type": "markdown",
   "metadata": {},
   "source": [
    "##### k-fold Cross Validation using XGBoost with early stopping\n",
    "This step gives us the optimal number of trees"
   ]
  },
  {
   "cell_type": "code",
   "execution_count": 75,
   "metadata": {},
   "outputs": [],
   "source": [
    "# Create DMatrix object : optimize both memory efficiency and training speed\n",
    "dmatrix_train = xgb.DMatrix(boston_X_train,label=boston_y_train)\n",
    "dmatrix_test= xgb.DMatrix(boston_X_test,label=boston_y_test)\n"
   ]
  },
  {
   "cell_type": "code",
   "execution_count": 76,
   "metadata": {
    "scrolled": true
   },
   "outputs": [
    {
     "data": {
      "text/html": [
       "<div>\n",
       "<style scoped>\n",
       "    .dataframe tbody tr th:only-of-type {\n",
       "        vertical-align: middle;\n",
       "    }\n",
       "\n",
       "    .dataframe tbody tr th {\n",
       "        vertical-align: top;\n",
       "    }\n",
       "\n",
       "    .dataframe thead th {\n",
       "        text-align: right;\n",
       "    }\n",
       "</style>\n",
       "<table border=\"1\" class=\"dataframe\">\n",
       "  <thead>\n",
       "    <tr style=\"text-align: right;\">\n",
       "      <th></th>\n",
       "      <th>train-rmse-mean</th>\n",
       "      <th>train-rmse-std</th>\n",
       "      <th>test-rmse-mean</th>\n",
       "      <th>test-rmse-std</th>\n",
       "    </tr>\n",
       "  </thead>\n",
       "  <tbody>\n",
       "    <tr>\n",
       "      <th>0</th>\n",
       "      <td>21.578803</td>\n",
       "      <td>0.340522</td>\n",
       "      <td>21.577863</td>\n",
       "      <td>0.756708</td>\n",
       "    </tr>\n",
       "    <tr>\n",
       "      <th>1</th>\n",
       "      <td>19.674324</td>\n",
       "      <td>0.384763</td>\n",
       "      <td>19.668711</td>\n",
       "      <td>0.768121</td>\n",
       "    </tr>\n",
       "    <tr>\n",
       "      <th>2</th>\n",
       "      <td>17.919149</td>\n",
       "      <td>0.387578</td>\n",
       "      <td>17.941937</td>\n",
       "      <td>0.797197</td>\n",
       "    </tr>\n",
       "    <tr>\n",
       "      <th>3</th>\n",
       "      <td>16.402814</td>\n",
       "      <td>0.388869</td>\n",
       "      <td>16.459531</td>\n",
       "      <td>0.871174</td>\n",
       "    </tr>\n",
       "    <tr>\n",
       "      <th>4</th>\n",
       "      <td>14.954941</td>\n",
       "      <td>0.368357</td>\n",
       "      <td>15.001842</td>\n",
       "      <td>0.898155</td>\n",
       "    </tr>\n",
       "  </tbody>\n",
       "</table>\n",
       "</div>"
      ],
      "text/plain": [
       "   train-rmse-mean  train-rmse-std  test-rmse-mean  test-rmse-std\n",
       "0        21.578803        0.340522       21.577863       0.756708\n",
       "1        19.674324        0.384763       19.668711       0.768121\n",
       "2        17.919149        0.387578       17.941937       0.797197\n",
       "3        16.402814        0.388869       16.459531       0.871174\n",
       "4        14.954941        0.368357       15.001842       0.898155"
      ]
     },
     "execution_count": 76,
     "metadata": {},
     "output_type": "execute_result"
    }
   ],
   "source": [
    "# create a hyperparameter dictionary first \n",
    "params = {'objecttive':'reg:linear',\n",
    "          'colsample_bytree': 0.3, \n",
    "          'learning_rate': 0.1,\n",
    "          'max_depth': 5, \n",
    "          'alpha': 10}\n",
    "\n",
    "# CV error needs to decrease every early_stopping_rounds to continue\n",
    "# Last entry in evaluation history is the one from best iteration\n",
    "cv_results = xgb.cv(dtrain=dmatrix_train,params=params,nfold=3,num_boost_round=50,early_stopping_rounds=10,\n",
    "                   metrics='rmse',as_pandas=True, seed=1)\n",
    "\n",
    "cv_results.head()"
   ]
  },
  {
   "cell_type": "code",
   "execution_count": 77,
   "metadata": {
    "scrolled": true
   },
   "outputs": [
    {
     "name": "stdout",
     "output_type": "stream",
     "text": [
      "Best number of trees: 50\n"
     ]
    },
    {
     "data": {
      "text/plain": [
       "array([30.874847, 28.591276, 19.2338  , 20.411242, 18.063152],\n",
       "      dtype=float32)"
      ]
     },
     "execution_count": 77,
     "metadata": {},
     "output_type": "execute_result"
    }
   ],
   "source": [
    "print('Best number of trees: {}'.format(cv_results.shape[0]))\n",
    "\n",
    "# train model using the best paramaters from CV\n",
    "xgb_reg.set_params(n_estimators = cv_results.shape[0])\n",
    "boston_xgb_reg2 = xgb_reg.fit(boston_X_train,boston_y_train) \n",
    "\n",
    "# predict\n",
    "boston_xgb_train_pred2 = boston_xgb_reg2.predict(boston_X_train)# predict on training data\n",
    "boston_xgb_test_pred2 = boston_xgb_reg2.predict(boston_X_test)# predict on test data\n",
    "boston_xgb_test_pred2[0:5]"
   ]
  },
  {
   "cell_type": "code",
   "execution_count": 78,
   "metadata": {},
   "outputs": [
    {
     "name": "stdout",
     "output_type": "stream",
     "text": [
      "RMSE train:1.61148, RMSE test:3.84023\n",
      "R-squared train: 0.96785, R-squared test:0.85078\n"
     ]
    }
   ],
   "source": [
    "boston_xgb_train_rmse2 = np.sqrt(mean_squared_error(boston_y_train,boston_xgb_train_pred2))\n",
    "boston_xgb_test_rmse2 = np.sqrt(mean_squared_error(boston_y_test,boston_xgb_test_pred2))\n",
    "\n",
    "boston_xgb_train_r22 = r2_score(boston_y_train,boston_xgb_train_pred2)\n",
    "boston_xgb_test_r22 = r2_score(boston_y_test,boston_xgb_test_pred2)\n",
    "print('RMSE train:{0:0.5f}, RMSE test:{1:0.5f}'.format(boston_xgb_train_rmse2,boston_xgb_test_rmse2))\n",
    "print('R-squared train: {0:0.5f}, R-squared test:{1:0.5f}'.format(boston_xgb_train_r22,boston_xgb_test_r22))"
   ]
  },
  {
   "cell_type": "code",
   "execution_count": 79,
   "metadata": {
    "scrolled": false
   },
   "outputs": [
    {
     "name": "stdout",
     "output_type": "stream",
     "text": [
      "[0]\tvalidation_0-rmse:21.5546\tvalidation_1-rmse:21.9504\n",
      "Multiple eval metrics have been passed: 'validation_1-rmse' will be used for early stopping.\n",
      "\n",
      "Will train until validation_1-rmse hasn't improved in 10 rounds.\n",
      "[1]\tvalidation_0-rmse:19.6716\tvalidation_1-rmse:20.1146\n",
      "[2]\tvalidation_0-rmse:17.9594\tvalidation_1-rmse:18.521\n",
      "[3]\tvalidation_0-rmse:16.3068\tvalidation_1-rmse:16.793\n",
      "[4]\tvalidation_0-rmse:14.9002\tvalidation_1-rmse:15.4611\n",
      "[5]\tvalidation_0-rmse:13.5557\tvalidation_1-rmse:14.1666\n",
      "[6]\tvalidation_0-rmse:12.3584\tvalidation_1-rmse:13.0321\n",
      "[7]\tvalidation_0-rmse:11.3302\tvalidation_1-rmse:12.0876\n",
      "[8]\tvalidation_0-rmse:10.4411\tvalidation_1-rmse:11.2675\n",
      "[9]\tvalidation_0-rmse:9.62503\tvalidation_1-rmse:10.5098\n",
      "[10]\tvalidation_0-rmse:8.7985\tvalidation_1-rmse:9.65251\n",
      "[11]\tvalidation_0-rmse:8.05728\tvalidation_1-rmse:8.962\n",
      "[12]\tvalidation_0-rmse:7.40153\tvalidation_1-rmse:8.34183\n",
      "[13]\tvalidation_0-rmse:6.81107\tvalidation_1-rmse:7.803\n",
      "[14]\tvalidation_0-rmse:6.28304\tvalidation_1-rmse:7.32706\n",
      "[15]\tvalidation_0-rmse:5.81302\tvalidation_1-rmse:6.93824\n",
      "[16]\tvalidation_0-rmse:5.37738\tvalidation_1-rmse:6.56988\n",
      "[17]\tvalidation_0-rmse:5.03051\tvalidation_1-rmse:6.28358\n",
      "[18]\tvalidation_0-rmse:4.67403\tvalidation_1-rmse:5.97498\n",
      "[19]\tvalidation_0-rmse:4.38312\tvalidation_1-rmse:5.75687\n",
      "[20]\tvalidation_0-rmse:4.13261\tvalidation_1-rmse:5.57086\n",
      "[21]\tvalidation_0-rmse:3.91194\tvalidation_1-rmse:5.39897\n",
      "[22]\tvalidation_0-rmse:3.71386\tvalidation_1-rmse:5.24647\n",
      "[23]\tvalidation_0-rmse:3.50151\tvalidation_1-rmse:5.08082\n",
      "[24]\tvalidation_0-rmse:3.32987\tvalidation_1-rmse:4.95968\n",
      "[25]\tvalidation_0-rmse:3.14338\tvalidation_1-rmse:4.80624\n",
      "[26]\tvalidation_0-rmse:2.97464\tvalidation_1-rmse:4.68151\n",
      "[27]\tvalidation_0-rmse:2.8481\tvalidation_1-rmse:4.62401\n",
      "[28]\tvalidation_0-rmse:2.69938\tvalidation_1-rmse:4.50588\n",
      "[29]\tvalidation_0-rmse:2.58098\tvalidation_1-rmse:4.40683\n",
      "[30]\tvalidation_0-rmse:2.47351\tvalidation_1-rmse:4.33871\n",
      "[31]\tvalidation_0-rmse:2.36718\tvalidation_1-rmse:4.25993\n",
      "[32]\tvalidation_0-rmse:2.28633\tvalidation_1-rmse:4.22888\n",
      "[33]\tvalidation_0-rmse:2.20312\tvalidation_1-rmse:4.17026\n",
      "[34]\tvalidation_0-rmse:2.1464\tvalidation_1-rmse:4.14307\n",
      "[35]\tvalidation_0-rmse:2.10259\tvalidation_1-rmse:4.11611\n",
      "[36]\tvalidation_0-rmse:2.06587\tvalidation_1-rmse:4.09072\n",
      "[37]\tvalidation_0-rmse:2.02571\tvalidation_1-rmse:4.07606\n",
      "[38]\tvalidation_0-rmse:1.98289\tvalidation_1-rmse:4.05314\n",
      "[39]\tvalidation_0-rmse:1.95009\tvalidation_1-rmse:4.03272\n",
      "[40]\tvalidation_0-rmse:1.9111\tvalidation_1-rmse:4.01388\n",
      "[41]\tvalidation_0-rmse:1.85936\tvalidation_1-rmse:3.94726\n",
      "[42]\tvalidation_0-rmse:1.82501\tvalidation_1-rmse:3.93756\n",
      "[43]\tvalidation_0-rmse:1.80583\tvalidation_1-rmse:3.92694\n",
      "[44]\tvalidation_0-rmse:1.78266\tvalidation_1-rmse:3.90422\n",
      "[45]\tvalidation_0-rmse:1.75837\tvalidation_1-rmse:3.89733\n",
      "[46]\tvalidation_0-rmse:1.71035\tvalidation_1-rmse:3.86803\n",
      "[47]\tvalidation_0-rmse:1.66714\tvalidation_1-rmse:3.84613\n",
      "[48]\tvalidation_0-rmse:1.62975\tvalidation_1-rmse:3.85157\n",
      "[49]\tvalidation_0-rmse:1.61148\tvalidation_1-rmse:3.84023\n",
      "[50]\tvalidation_0-rmse:1.59639\tvalidation_1-rmse:3.82781\n",
      "[51]\tvalidation_0-rmse:1.58508\tvalidation_1-rmse:3.82136\n",
      "[52]\tvalidation_0-rmse:1.57446\tvalidation_1-rmse:3.81336\n",
      "[53]\tvalidation_0-rmse:1.54104\tvalidation_1-rmse:3.82223\n",
      "[54]\tvalidation_0-rmse:1.52113\tvalidation_1-rmse:3.82521\n",
      "[55]\tvalidation_0-rmse:1.49608\tvalidation_1-rmse:3.8329\n",
      "[56]\tvalidation_0-rmse:1.47034\tvalidation_1-rmse:3.81837\n",
      "[57]\tvalidation_0-rmse:1.45074\tvalidation_1-rmse:3.81054\n",
      "[58]\tvalidation_0-rmse:1.42731\tvalidation_1-rmse:3.81171\n",
      "[59]\tvalidation_0-rmse:1.40244\tvalidation_1-rmse:3.81258\n",
      "[60]\tvalidation_0-rmse:1.3801\tvalidation_1-rmse:3.8055\n",
      "[61]\tvalidation_0-rmse:1.36604\tvalidation_1-rmse:3.79879\n",
      "[62]\tvalidation_0-rmse:1.3462\tvalidation_1-rmse:3.79051\n",
      "[63]\tvalidation_0-rmse:1.3346\tvalidation_1-rmse:3.78919\n",
      "[64]\tvalidation_0-rmse:1.31326\tvalidation_1-rmse:3.77339\n",
      "[65]\tvalidation_0-rmse:1.29317\tvalidation_1-rmse:3.75983\n",
      "[66]\tvalidation_0-rmse:1.27764\tvalidation_1-rmse:3.76301\n",
      "[67]\tvalidation_0-rmse:1.26636\tvalidation_1-rmse:3.76345\n",
      "[68]\tvalidation_0-rmse:1.24903\tvalidation_1-rmse:3.75639\n",
      "[69]\tvalidation_0-rmse:1.2229\tvalidation_1-rmse:3.75066\n",
      "[70]\tvalidation_0-rmse:1.20955\tvalidation_1-rmse:3.74776\n",
      "[71]\tvalidation_0-rmse:1.20486\tvalidation_1-rmse:3.7451\n",
      "[72]\tvalidation_0-rmse:1.19802\tvalidation_1-rmse:3.74571\n",
      "[73]\tvalidation_0-rmse:1.18599\tvalidation_1-rmse:3.74615\n",
      "[74]\tvalidation_0-rmse:1.17984\tvalidation_1-rmse:3.74578\n",
      "[75]\tvalidation_0-rmse:1.17367\tvalidation_1-rmse:3.7475\n",
      "[76]\tvalidation_0-rmse:1.15834\tvalidation_1-rmse:3.74597\n",
      "[77]\tvalidation_0-rmse:1.14656\tvalidation_1-rmse:3.73886\n",
      "[78]\tvalidation_0-rmse:1.13082\tvalidation_1-rmse:3.73563\n",
      "[79]\tvalidation_0-rmse:1.12171\tvalidation_1-rmse:3.73664\n",
      "[80]\tvalidation_0-rmse:1.10804\tvalidation_1-rmse:3.72896\n",
      "[81]\tvalidation_0-rmse:1.0922\tvalidation_1-rmse:3.70991\n",
      "[82]\tvalidation_0-rmse:1.0808\tvalidation_1-rmse:3.69185\n",
      "[83]\tvalidation_0-rmse:1.06241\tvalidation_1-rmse:3.68577\n",
      "[84]\tvalidation_0-rmse:1.04778\tvalidation_1-rmse:3.6843\n",
      "[85]\tvalidation_0-rmse:1.03248\tvalidation_1-rmse:3.68295\n",
      "[86]\tvalidation_0-rmse:1.02606\tvalidation_1-rmse:3.68127\n",
      "[87]\tvalidation_0-rmse:1.0122\tvalidation_1-rmse:3.6828\n",
      "[88]\tvalidation_0-rmse:0.999652\tvalidation_1-rmse:3.69013\n",
      "[89]\tvalidation_0-rmse:0.995121\tvalidation_1-rmse:3.68811\n",
      "[90]\tvalidation_0-rmse:0.989169\tvalidation_1-rmse:3.68846\n",
      "[91]\tvalidation_0-rmse:0.974313\tvalidation_1-rmse:3.69004\n",
      "[92]\tvalidation_0-rmse:0.960945\tvalidation_1-rmse:3.67855\n",
      "[93]\tvalidation_0-rmse:0.957155\tvalidation_1-rmse:3.67675\n",
      "[94]\tvalidation_0-rmse:0.95071\tvalidation_1-rmse:3.66625\n",
      "[95]\tvalidation_0-rmse:0.945832\tvalidation_1-rmse:3.66311\n",
      "[96]\tvalidation_0-rmse:0.937471\tvalidation_1-rmse:3.66104\n",
      "[97]\tvalidation_0-rmse:0.929119\tvalidation_1-rmse:3.66138\n",
      "[98]\tvalidation_0-rmse:0.921849\tvalidation_1-rmse:3.66569\n",
      "[99]\tvalidation_0-rmse:0.909544\tvalidation_1-rmse:3.66053\n",
      "[100]\tvalidation_0-rmse:0.902217\tvalidation_1-rmse:3.64825\n",
      "[101]\tvalidation_0-rmse:0.894961\tvalidation_1-rmse:3.64743\n",
      "[102]\tvalidation_0-rmse:0.884053\tvalidation_1-rmse:3.63739\n",
      "[103]\tvalidation_0-rmse:0.876881\tvalidation_1-rmse:3.63665\n",
      "[104]\tvalidation_0-rmse:0.870105\tvalidation_1-rmse:3.64201\n",
      "[105]\tvalidation_0-rmse:0.861172\tvalidation_1-rmse:3.64306\n",
      "[106]\tvalidation_0-rmse:0.855503\tvalidation_1-rmse:3.64365\n",
      "[107]\tvalidation_0-rmse:0.851728\tvalidation_1-rmse:3.64301\n",
      "[108]\tvalidation_0-rmse:0.848581\tvalidation_1-rmse:3.64174\n",
      "[109]\tvalidation_0-rmse:0.84327\tvalidation_1-rmse:3.64004\n",
      "[110]\tvalidation_0-rmse:0.841244\tvalidation_1-rmse:3.63946\n",
      "[111]\tvalidation_0-rmse:0.832513\tvalidation_1-rmse:3.6395\n",
      "[112]\tvalidation_0-rmse:0.831098\tvalidation_1-rmse:3.63864\n",
      "[113]\tvalidation_0-rmse:0.816237\tvalidation_1-rmse:3.64094\n",
      "Stopping. Best iteration:\n",
      "[103]\tvalidation_0-rmse:0.876881\tvalidation_1-rmse:3.63665\n",
      "\n",
      "CPU times: user 148 ms, sys: 27.1 ms, total: 175 ms\n",
      "Wall time: 136 ms\n"
     ]
    },
    {
     "data": {
      "text/plain": [
       "XGBRegressor(alpha=10, base_score=0.5, booster='gbtree', colsample_bylevel=1,\n",
       "       colsample_bytree=0.3, gamma=0, importance_type='gain',\n",
       "       learning_rate=0.1, max_delta_step=0, max_depth=5,\n",
       "       min_child_weight=1, missing=None, n_estimators=200, n_jobs=1,\n",
       "       nthread=None, objecgtive='reg:linear', objective='reg:linear',\n",
       "       random_state=0, reg_alpha=0, reg_lambda=1, scale_pos_weight=1,\n",
       "       seed=None, silent=True, subsample=1)"
      ]
     },
     "execution_count": 79,
     "metadata": {},
     "output_type": "execute_result"
    }
   ],
   "source": [
    "eval_set = [(boston_X_train,boston_y_train),(boston_X_test,boston_y_test)]\n",
    "eval_metric=['rmse']\n",
    "\n",
    "xgb_reg.set_params(n_estimators = 200)\n",
    "%time xgb_reg.fit(boston_X_train,boston_y_train,eval_metric=eval_metric,eval_set=eval_set,verbose=True,\\\n",
    "                  early_stopping_rounds=10)\n"
   ]
  },
  {
   "cell_type": "code",
   "execution_count": 80,
   "metadata": {},
   "outputs": [
    {
     "data": {
      "image/png": "[encoded data removed]",
      "text/plain": [
       "<Figure size 864x576 with 1 Axes>"
      ]
     },
     "metadata": {
      "needs_background": "light"
     },
     "output_type": "display_data"
    }
   ],
   "source": [
    "results = xgb_reg.evals_result()\n",
    "trees = len(results['validation_0']['rmse'])\n",
    "x_axis = range(0,trees)\n",
    "\n",
    "# plot rmse \n",
    "fig, ax = plt.subplots(figsize=[12,8])\n",
    "plt.plot(x_axis, results['validation_0']['rmse'], label = 'Train')\n",
    "plt.plot(x_axis, results['validation_1']['rmse'], label = 'Test')\n",
    "plt.legend()\n",
    "plt.xlabel('Number of Iterations')\n",
    "plt.ylabel('RMSE')\n",
    "plt.title('XGBoost RMSE')\n",
    "plt.show()"
   ]
  },
  {
   "cell_type": "markdown",
   "metadata": {},
   "source": [
    "* **Paramater tuning**\n",
    "    - Choose a relatively **high learning rate**. Generally a learning rate of 0.1 works but somewhere between 0.05 to 0.3 should work for different problems. Determine the **optimum number of trees for this learning rate**. XGBoost has a very useful function called as “cv” which performs cross-validation at each boosting iteration and thus returns the optimum number of trees required.\n",
    "    - Tune **tree-specific parameters** ( max_depth, min_child_weight, gamma, subsample, colsample_bytree) for decided learning rate and number of trees. Note that we can choose different parameters to define a tree\n",
    "    - Tune **regularization parameters*8 (lambda, alpha) for xgboost which can help reduce model complexity and enhance performance.\n",
    "    - **Lower the learning rate** and decide the optimal parameters .\n",
    "\n",
    "[XGBoost paramater tuning example](https://www.analyticsvidhya.com/blog/2016/03/complete-guide-parameter-tuning-xgboost-with-codes-python/)"
   ]
  },
  {
   "cell_type": "code",
   "execution_count": 81,
   "metadata": {
    "scrolled": false
   },
   "outputs": [
    {
     "data": {
      "image/png": "[encoded data removed]",
      "text/plain": [
       "<Figure size 864x576 with 2 Axes>"
      ]
     },
     "metadata": {
      "needs_background": "light"
     },
     "output_type": "display_data"
    }
   ],
   "source": [
    "# plot importance : how many times was this variable split on \n",
    "fig, ax = plt.subplots(1,2,figsize=[12,8])\n",
    "xgb.plot_importance(boston_xgb_reg2,ax=ax[0], importance_type='weight', title='Feature Importance by Weight')\n",
    "xgb.plot_importance(boston_xgb_reg2,ax=ax[1], importance_type='gain',title='Feature Importance by Gain')\n",
    "\n",
    "plt.show()"
   ]
  },
  {
   "cell_type": "code",
   "execution_count": 82,
   "metadata": {},
   "outputs": [],
   "source": [
    "from IPython.display import HTML"
   ]
  },
  {
   "cell_type": "markdown",
   "metadata": {},
   "source": [
    "<a id='CNN'></a>\n",
    "### 2.3 Neural network and CNN\n",
    "\n",
    "<font size='3'>\n",
    "\n",
    "* **Artificial Neural Network(ANN)** models the relationship between a set of input signals and an output signal using a model derived from our understanding of how a biological brain responds to stimuli from sensory inputs.\n",
    "<img src='day2 data and image/nn.png' width='400'>\n",
    "\n",
    "* **[CNN](https://en.wikipedia.org/wiki/Convolutional_neural_network)**\n",
    "    - In deep learning, a CNN is a class of deep learning networks, most commonly applies to analyzing visual imagery. \n",
    "    - How does CNN work?\n",
    "        1. CNN receives an input **feature map**: 3D matrix (length, width,color-channel). \n",
    "        2. **Convolution**: extracts tiles of the input feature map, and applies filters to them to compute new features. producing an output feature map. Convolutions are defined by two parameters:\n",
    "            - **Size of the tiles that are extracted** (typically 3$\\times$3 or 5$\\times$5 pixels)\n",
    "            - **The depth of the output feature map**,which corresponds to the number of filters that are applied\n",
    "<img src='day2 data and image/convolution_overview.gif'>\n",
    "<img src='day2 data and image/convolution_example.svg'>\n",
    "<img src='day2 data and image/convolution_calculation.png'>\n",
    "            - During the training, the 'CNN' learns the optimal values for the filter matrices that enable it to extract meaningful features (textures,edges,shapes) from the input feature map.As the number of filters applied to the input increases, so does the number of features the CNN can extract.\n",
    "        3. [ReLU](https://en.wikipedia.org/wiki/Rectifier_(neural_networks)) (Rectified Linear Unit):\n",
    "            - ReLU transformation is applied following each convolution operation, in order to introduce nonlinearity into the model.\n",
    "            - F(x) = max(0,x), returns x for all values of x>0, and returns 0 for all values $\\leq$0.\n",
    "        4. Pooling: comes after ReLU, in which CNN reduces the number of dimensions of the feature map, while still preserving the most critical feature information.e.g. max pooloing.\n",
    "            - **Size** of the max-pooling filter (typically 2$\\times$2 pixels)  \n",
    "            - **Stride**: the distance, in pixels, seperating each extracted tile.                                                           \n",
    "<img src='day2 data and image/maxpool_animation.gif'>\n",
    "        5. Fully Connected Layers:at the end of a CNN are one or more fully connected layers. \n",
    "            - Perform classification based on the feature extracted by the convolutions.\n",
    "            - Typically,the final fully connected layer contains a softmax activation function, which outputs a probability value from 0 to 1 for each of the labels the model is trying to predict.\n",
    "</font>\n",
    "\n",
    "<img src='day2 data and image/cnn_architecture.svg'>\n",
    "\n",
    "[Tensors Illustration](https://hackernoon.com/learning-ai-if-you-suck-at-math-p4-tensors-illustrated-with-cats-27f0002c9b32)<br>\n",
    "[Intro to CNN - Google](https://developers.google.com/machine-learning/practica/image-classification/convolutional-neural-networks)<br>\n",
    "[Keras Sequential model Documentation](https://keras.io/getting-started/sequential-model-guide/#specifying-the-input-shape)<br>\n",
    "[](https://www.linkedin.com/pulse/deep-learning-cnn-edge-detection-chen-yang/)\n"
   ]
  },
  {
   "cell_type": "markdown",
   "metadata": {},
   "source": [
    "### Convolutional Neural Networks (CNN) Example - MNIST data\n",
    "The [MNIST dataset](http://yann.lecun.com/exdb/mnist/) is one of the most common datasets used for image classification and accessible from many different resources. It contains 60,000 training images and 10,000 testting images taken from American Census Bureau employees and American high school students. X_train and X_test contains greyscale RGB codes (from 0 to 255) while y_train nad y_test contains labels from 0 to 9 which represents which number they actually are. \n"
   ]
  },
  {
   "cell_type": "code",
   "execution_count": 83,
   "metadata": {},
   "outputs": [],
   "source": [
    "## ! pip install tensorflow\n",
    "# ! pip install kera"
   ]
  },
  {
   "cell_type": "code",
   "execution_count": 84,
   "metadata": {},
   "outputs": [
    {
     "name": "stderr",
     "output_type": "stream",
     "text": [
      "Using TensorFlow backend.\n"
     ]
    }
   ],
   "source": [
    "import tensorflow as tf \n",
    "from keras.models import Sequential\n",
    "from keras.layers import Dense, Conv2D, Dropout, Flatten, MaxPooling2D"
   ]
  },
  {
   "cell_type": "code",
   "execution_count": 85,
   "metadata": {},
   "outputs": [],
   "source": [
    "seed = 7\n",
    "np.random.seed(seed)"
   ]
  },
  {
   "cell_type": "code",
   "execution_count": 86,
   "metadata": {
    "scrolled": false
   },
   "outputs": [
    {
     "data": {
      "image/png": "[encoded data removed]",
      "text/plain": [
       "<Figure size 864x576 with 4 Axes>"
      ]
     },
     "metadata": {
      "needs_background": "light"
     },
     "output_type": "display_data"
    }
   ],
   "source": [
    "# download mnist data \n",
    "(X_train,y_train),(X_test,y_test) = tf.keras.datasets.mnist.load_data()\n",
    "# plot 4 images \n",
    "fig = plt.subplots(figsize=[12,8])\n",
    "plt.subplot(221)\n",
    "plt.imshow(X_train[0],cmap=plt.get_cmap('gray'))\n",
    "plt.subplot(222)\n",
    "plt.imshow(X_train[1],cmap=plt.get_cmap('gray'))\n",
    "plt.subplot(223)\n",
    "plt.imshow(X_train[2],cmap=plt.get_cmap('gray'))\n",
    "plt.subplot(224)\n",
    "plt.imshow(X_train[3],cmap=plt.get_cmap('gray'))\n",
    "plt.show()"
   ]
  },
  {
   "cell_type": "code",
   "execution_count": 87,
   "metadata": {
    "scrolled": true
   },
   "outputs": [
    {
     "data": {
      "text/plain": [
       "((60000, 28, 28), (10000, 28, 28))"
      ]
     },
     "execution_count": 87,
     "metadata": {},
     "output_type": "execute_result"
    }
   ],
   "source": [
    "X_train.shape, X_test.shape # image size 28*28 pixel"
   ]
  },
  {
   "cell_type": "markdown",
   "metadata": {},
   "source": [
    "- In Keras, the layers used for two-dimensional convolutions expect pixel values with the dimensions **[pixels][width][height]**.\n",
    "- For RGB case, the dimension pixel will be 3 for red, green and blue components. \n",
    "- For MNIST data where the pixel values are gray scale, the pixel is set to 1.\n",
    "- Normalization for pixel values to range [0,1] is requried for Neural Network models"
   ]
  },
  {
   "cell_type": "code",
   "execution_count": 88,
   "metadata": {},
   "outputs": [
    {
     "name": "stdout",
     "output_type": "stream",
     "text": [
      "X train shape:  (60000, 28, 28, 1)\n",
      "X test shape:  (10000, 28, 28, 1)\n",
      "Number of images in X_train:  60000\n",
      "Number of images in X_tests : 10000\n"
     ]
    }
   ],
   "source": [
    "# Reshape to 4-dims array \n",
    "X_train = X_train.reshape(X_train.shape[0],28,28,1).astype('float32')\n",
    "X_test = X_test.reshape(X_test.shape[0],28,28,1).astype('float32')\n",
    "\n",
    "# Normalize RGB by deviding it to the max RGB value\n",
    "X_train = X_train/255\n",
    "X_test = X_test/255\n",
    "\n",
    "print('X train shape: ', X_train.shape)\n",
    "print('X test shape: ', X_test.shape)\n",
    "print('Number of images in X_train: ', X_train.shape[0])\n",
    "print('Number of images in X_tests :', X_test.shape[0])"
   ]
  },
  {
   "cell_type": "code",
   "execution_count": 89,
   "metadata": {},
   "outputs": [
    {
     "name": "stdout",
     "output_type": "stream",
     "text": [
      "WARNING:tensorflow:From /Users/rexitim/anaconda3/lib/python3.7/site-packages/tensorflow/python/framework/op_def_library.py:263: colocate_with (from tensorflow.python.framework.ops) is deprecated and will be removed in a future version.\n",
      "Instructions for updating:\n",
      "Colocations handled automatically by placer.\n",
      "WARNING:tensorflow:From /Users/rexitim/anaconda3/lib/python3.7/site-packages/keras/backend/tensorflow_backend.py:3445: calling dropout (from tensorflow.python.ops.nn_ops) with keep_prob is deprecated and will be removed in a future version.\n",
      "Instructions for updating:\n",
      "Please use `rate` instead of `keep_prob`. Rate should be set to `rate = 1 - keep_prob`.\n",
      "WARNING:tensorflow:From /Users/rexitim/anaconda3/lib/python3.7/site-packages/tensorflow/python/ops/math_ops.py:3066: to_int32 (from tensorflow.python.ops.math_ops) is deprecated and will be removed in a future version.\n",
      "Instructions for updating:\n",
      "Use tf.cast instead.\n",
      "Train on 60000 samples, validate on 10000 samples\n",
      "Epoch 1/10\n",
      " - 10s - loss: 0.2557 - acc: 0.9257 - val_loss: 0.0903 - val_acc: 0.9733\n",
      "Epoch 2/10\n",
      " - 10s - loss: 0.0830 - acc: 0.9754 - val_loss: 0.0536 - val_acc: 0.9826\n",
      "Epoch 3/10\n",
      " - 12s - loss: 0.0548 - acc: 0.9831 - val_loss: 0.0494 - val_acc: 0.9846\n",
      "Epoch 4/10\n",
      " - 12s - loss: 0.0415 - acc: 0.9870 - val_loss: 0.0442 - val_acc: 0.9847\n",
      "Epoch 5/10\n",
      " - 13s - loss: 0.0314 - acc: 0.9904 - val_loss: 0.0407 - val_acc: 0.9873\n",
      "Epoch 6/10\n",
      " - 12s - loss: 0.0272 - acc: 0.9910 - val_loss: 0.0394 - val_acc: 0.9871\n",
      "Epoch 7/10\n",
      " - 12s - loss: 0.0204 - acc: 0.9935 - val_loss: 0.0415 - val_acc: 0.9869\n",
      "Epoch 8/10\n",
      " - 11s - loss: 0.0199 - acc: 0.9934 - val_loss: 0.0372 - val_acc: 0.9882\n",
      "Epoch 9/10\n",
      " - 10s - loss: 0.0159 - acc: 0.9948 - val_loss: 0.0399 - val_acc: 0.9875\n",
      "Epoch 10/10\n",
      " - 11s - loss: 0.0125 - acc: 0.9961 - val_loss: 0.0399 - val_acc: 0.9881\n"
     ]
    },
    {
     "data": {
      "text/plain": [
       "<keras.callbacks.History at 0x1a30ca0080>"
      ]
     },
     "execution_count": 89,
     "metadata": {},
     "output_type": "execute_result"
    }
   ],
   "source": [
    "# Buidling CNN\n",
    "model = Sequential() \n",
    "model.add(Conv2D(28, kernel_size=(5,5),input_shape=X_train.shape[1:]))\n",
    "model.add(MaxPooling2D(pool_size=(2,2)))\n",
    "model.add(Flatten()) # flatten the 2D array for fully connected layer \n",
    "model.add(Dense(200,activation='relu'))\n",
    "model.add(Dropout(0.2)) # help reducing interdependent learning amongst the neurons by ignoring certain neurons at random at each training stage \n",
    "model.add(Dense(10,activation='softmax'))\n",
    "\n",
    "# Compile model\n",
    "model.compile(optimizer = 'adam',\n",
    "             loss = 'sparse_categorical_crossentropy',\n",
    "             metrics = ['accuracy'])\n",
    "model.fit(X_train, y_train,validation_data = (X_test,y_test), epochs=10,batch_size=200, verbose=2)\n"
   ]
  },
  {
   "cell_type": "code",
   "execution_count": 90,
   "metadata": {},
   "outputs": [
    {
     "name": "stdout",
     "output_type": "stream",
     "text": [
      "CNN Accuracy: 98.81000\n"
     ]
    }
   ],
   "source": [
    "# final evaluation \n",
    "scores = model.evaluate(X_test, y_test,verbose=0)\n",
    "print('CNN Accuracy: {:0.5f}'.format(scores[1]*100))"
   ]
  },
  {
   "cell_type": "code",
   "execution_count": 91,
   "metadata": {
    "scrolled": true
   },
   "outputs": [
    {
     "name": "stdout",
     "output_type": "stream",
     "text": [
      "9\n"
     ]
    },
    {
     "data": {
      "image/png": "[encoded data removed]",
      "text/plain": [
       "<Figure size 432x288 with 1 Axes>"
      ]
     },
     "metadata": {
      "needs_background": "light"
     },
     "output_type": "display_data"
    }
   ],
   "source": [
    "# Predict\n",
    "image_index=4444\n",
    "plt.imshow(X_test[image_index].reshape(28,28),cmap='gray')\n",
    "pred = model.predict(X_test[image_index].reshape(1,28,28,1))\n",
    "print(pred.argmax())"
   ]
  },
  {
   "cell_type": "markdown",
   "metadata": {},
   "source": [
    "***\n",
    "<a id='practice'></a>\n",
    "## Practice\n",
    "<font size='3'>\n",
    "    \n",
    "**XGBoost**\n",
    "* Please change the paramaters in 'xgb.XGBRegressor()' of the XGBoost model to see how it changes the model's performance\n",
    "* Please change 'n_estimator' in 'xgb_reg.set_params(n_estimators = 200)' to see how it changes the 'XGBoost RMSE' plot\n",
    "* Please remove 'early_stopping_rounds=10)' from 'xgb_reg.fit()' to see how it changes the 'XGBoost RMSE' plot\n",
    "</br>\n",
    "\n",
    "**CNN**\n",
    "* Please try to change the paramaters of the CNN to see how it changes the model. \n",
    "</font>"
   ]
  }
 ],
 "metadata": {
  "kernelspec": {
   "display_name": "Python 3",
   "language": "python",
   "name": "python3"
  },
  "language_info": {
   "codemirror_mode": {
    "name": "ipython",
    "version": 3
   },
   "file_extension": ".py",
   "mimetype": "text/x-python",
   "name": "python",
   "nbconvert_exporter": "python",
   "pygments_lexer": "ipython3",
   "version": "3.7.1"
  }
 },
 "nbformat": 4,
 "nbformat_minor": 2
}
