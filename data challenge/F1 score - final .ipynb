{
 "cells": [
  {
   "cell_type": "code",
   "execution_count": 2,
   "metadata": {},
   "outputs": [],
   "source": [
    "from collections import Counter\n",
    "import pandas as pd\n",
    "import numpy as np"
   ]
  },
  {
   "cell_type": "code",
   "execution_count": 3,
   "metadata": {},
   "outputs": [],
   "source": [
    "train = pd.read_csv('train.csv')\n",
    "X_test = pd.read_csv('X_test.csv')\n",
    "y_test = pd.read_csv('y_test.csv')\n",
    "X_lead = pd.read_csv('X_lead.csv')\n",
    "y_lead = pd.read_csv('y_lead.csv')\n",
    "X_final = pd.read_csv('X_final.csv')\n",
    "y_final = pd.read_csv('y_final.csv')"
   ]
  },
  {
   "cell_type": "markdown",
   "metadata": {},
   "source": [
    "### Requirements:\n",
    "1. We will ask participants to submit the predictions on entire test data as a dataframe with 2 columns:\n",
    "    - **index**: the 'index' column provided in the test data\n",
    "    - **prediction**: participants' prediction for each index"
   ]
  },
  {
   "cell_type": "code",
   "execution_count": 3,
   "metadata": {},
   "outputs": [
    {
     "data": {
      "text/plain": [
       "1.0"
      ]
     },
     "execution_count": 3,
     "metadata": {},
     "output_type": "execute_result"
    }
   ],
   "source": [
    "# This function returns an F1 score value\n",
    "# 2 parameter: \n",
    "      # true (true labels) -> y_lead for leader board scoring, y_final for final scoring \n",
    "      # pred (predicted labels) -> a prediction dataframe for entire test data with 2 columns (index, prediction),submitted by participants\n",
    "def calculate_f1_score(true,pred):\n",
    "    join_df = true.merge(pred, how = 'left', on = 'index') # 3 columns: index, y_true, y_predict\n",
    "    y_true = join_df.iloc[:,1]   \n",
    "    y_predict = join_df.iloc[:,2]\n",
    "    counts = Counter(zip(y_true,y_predict))\n",
    "    tp = counts[1,1]\n",
    "    tn = counts[0,0]\n",
    "    fp = counts[0,1]\n",
    "    fn = counts[1,0]\n",
    "    precision = tp / (tp + fp) if tp or fp else 0\n",
    "    recall = tp / (tp + fn) if tp or fn else 0 \n",
    "    return 2 * precision * recall / (precision + recall) if precision or recall else 0\n",
    "\n",
    "\n",
    "calculate_f1_score(y_final,y_test)\n",
    "\n"
   ]
  }
 ],
 "metadata": {
  "kernelspec": {
   "display_name": "Python 3",
   "language": "python",
   "name": "python3"
  },
  "language_info": {
   "codemirror_mode": {
    "name": "ipython",
    "version": 3
   },
   "file_extension": ".py",
   "mimetype": "text/x-python",
   "name": "python",
   "nbconvert_exporter": "python",
   "pygments_lexer": "ipython3",
   "version": "3.7.1"
  }
 },
 "nbformat": 4,
 "nbformat_minor": 2
}
